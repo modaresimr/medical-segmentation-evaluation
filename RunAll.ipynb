{
 "cells": [
  {
   "cell_type": "markdown",
   "id": "6303ee87-7fb0-44ec-9cea-a76815e2d104",
   "metadata": {},
   "source": [
    "# Run All"
   ]
  },
  {
   "cell_type": "code",
   "execution_count": 1,
   "id": "bb879f6d-3cff-43bd-85f3-7e23c3afceed",
   "metadata": {},
   "outputs": [],
   "source": [
    "from ipywidgets import interact, IntSlider\n",
    "import os\n",
    "import nibabel as nib\n",
    "import eval_seg\n",
    "\n",
    "import numpy as np\n",
    "\n",
    "root = 'datasets/alg_out/'\n",
    "root_original_img = 'datasets/origdata'\n",
    "root_out = 'results'\n",
    "import importlib\n",
    "\n",
    "\n",
    "import json\n",
    "\n",
    "items = []\n",
    "for dataset in ['Task001_LiverTumor', 'Task002_Pancreas', 'Task003_Multiorgan']:\n",
    "    for file in sorted(os.listdir(f'{root}/{dataset}/GroundTruth')):\n",
    "        items.append((dataset, file, ['z']))\n",
    "\n",
    "\n",
    "def compute(inp):\n",
    "    # print(inp)\n",
    "    _compute(*inp)\n",
    "\n",
    "\n",
    "def _compute(dataset, file, axes):\n",
    "    gt_nib = nib.load(f'{root}/{dataset}/GroundTruth/{file}')\n",
    "    gt_orig = gt_nib.dataobj[...]\n",
    "    voxelsize_orig = np.array(nib.affines.voxel_sizes(gt_nib.affine))\n",
    "\n",
    "    original_img_path = f'{root_original_img}/{dataset}/{file}'.replace('.nii.gz', '_0000.nii.gz')\n",
    "    ct_orig = nib.load(original_img_path).dataobj[...] if os.path.isfile(original_img_path) else None\n",
    "    ct_orig = gt_orig if ct_orig is None else ct_orig\n",
    "    gtmax = (gt_orig.sum(axis=2).sum(axis=1).argmax(), gt_orig.sum(axis=2).sum(axis=0).argmax(), gt_orig.sum(axis=1).sum(axis=0).argmax())\n",
    "\n",
    "    outdir1 = f'{root_out}/{dataset}/{file}/'\n",
    "    os.makedirs(outdir1, exist_ok=True)\n",
    "\n",
    "    data_orig = {\n",
    "        typ: nib.load(f'{root}/{dataset}/{typ}/{file}').dataobj[...] for typ in ['GroundTruth', 'CE', 'Dice', 'DiceCE', 'DiceFocal', 'DiceTopK10', 'TopK10']\n",
    "    }\n",
    "\n",
    "    eval_seg.ui.ortho_slicer(ct_orig, data_orig, gtmax, args={'show': 0, 'dst': f'{outdir1}/ortho_slice'})\n",
    "    all_axes = {'x': 0, 'y': 1, 'z': 2, 'all': -1}\n",
    "\n",
    "    \n",
    "    classes=int(max(gt_orig.max(),max([data_orig[typ].max() for typ in data_orig]))+1)\n",
    "    # print('number of classes:',classes)\n",
    "    res={}\n",
    "    for ax in all_axes:\n",
    "        if not (ax in axes):\n",
    "            continue\n",
    "        axi = all_axes[ax]\n",
    "        try:\n",
    "            outdir2 = f'{outdir1}/{ax}/' + (f'{gtmax[axi]}' if ax != 'all' else '')\n",
    "            os.makedirs(outdir2, exist_ok=True)\n",
    "            \n",
    "            if ax == 'all':\n",
    "                gt, voxelsize = gt_orig, voxelsize_orig\n",
    "            else:\n",
    "                gt, voxelsize = eval_seg.geometry.slice(gt_orig, voxelsize_orig, axi, [gtmax[axi]])\n",
    "                ct,_ = eval_seg.geometry.slice(ct_orig, voxelsize, axi, [gtmax[axi]])\n",
    "                data = {p: eval_seg.geometry.slice(data_orig[p], voxelsize, axi, [gtmax[axi]])[0] for p in data_orig}\n",
    "                eval_seg.ui.multi_plot_2d(\n",
    "                    ct,\n",
    "                    data,\n",
    "                    args={\n",
    "                        \"imglabel\": f\"{dataset.split('_')[1]} {file.split('_')[1].split('.')[0]} {ax}={gtmax[axi]}\",\n",
    "                        'z_titles':[gtmax[axi]],\n",
    "                        \"add_backimg\": 1,\n",
    "                        \"clahe\": 1,\n",
    "                        \"crop2roi\": 1,\n",
    "                        \"zoom2segments\": 1,\n",
    "                        \"add_notzoom_img\": 1,\n",
    "                        #                 'interactive':1,\n",
    "                        \"show_tp_fp_fn\": 1,\n",
    "                        \"show\": 0,\n",
    "                        \"dst\": f\"{outdir2}/allmethods\",\n",
    "                        \"spacing\": voxelsize,\n",
    "                    },\n",
    "                )\n",
    "            \n",
    "            mme = eval_seg.metrics.MME(classes, debug={'show_precompute': 1})\n",
    "            mme.set_reference(gt, spacing=voxelsize)\n",
    "            \n",
    "            for typ in data:\n",
    "\n",
    "                pr = data[typ]\n",
    "                outdir3 = f'{outdir2}/{typ}/'\n",
    "                os.makedirs(outdir3, exist_ok=True)\n",
    "                # pr=pr_orig if ax == 'all' else plotui.slice(pr_orig,axi,[gtmax[axi]])\n",
    "                # global ev\n",
    "                ev = mme.evaluate(pr)\n",
    "                with open(f'{outdir3}/metric.json', 'w') as f:\n",
    "                    # print(ev)\n",
    "                    json.dump(ev, f, indent=4, cls=eval_seg.common.NumpyEncoder)\n",
    "                res[ax]=ev \n",
    "\n",
    "        except Exception as e:\n",
    "            print(dataset, file, axes)\n",
    "            print({d: data_orig[d].sum() for d in data_orig})\n",
    "            raise e\n",
    "    return res\n"
   ]
  },
  {
   "cell_type": "code",
   "execution_count": null,
   "id": "e51c0043-a5fe-4b45-a977-fb918e2dd9fc",
   "metadata": {},
   "outputs": [
    {
     "data": {
      "application/vnd.jupyter.widget-view+json": {
       "model_id": "48fb756db3524574b754c193a7c317a5",
       "version_major": 2,
       "version_minor": 0
      },
      "text/plain": [
       "  0%|          | 0/178 [00:00<?, ?it/s]"
      ]
     },
     "metadata": {},
     "output_type": "display_data"
    }
   ],
   "source": [
    "list(eval_seg.common.parallel_runner(compute,items,parallel=1))"
   ]
  },
  {
   "cell_type": "code",
   "execution_count": null,
   "id": "1d4b0069-5196-476f-b978-6c1eb1e25876",
   "metadata": {},
   "outputs": [],
   "source": [
    "eval_seg.reload()\n",
    "import CTHelper,importlib\n",
    "importlib.reload(CTHelper)\n",
    "\n",
    "_compute('Task001_LiverTumor', 'train_114.nii.gz', ['z'])"
   ]
  },
  {
   "cell_type": "code",
   "execution_count": null,
   "id": "828333eb-a35e-4a70-be20-d9a4c01aa4e8",
   "metadata": {},
   "outputs": [],
   "source": []
  }
 ],
 "metadata": {
  "kernelspec": {
   "display_name": "Python 3 (ipykernel)",
   "language": "python",
   "name": "python3"
  },
  "language_info": {
   "codemirror_mode": {
    "name": "ipython",
    "version": 3
   },
   "file_extension": ".py",
   "mimetype": "text/x-python",
   "name": "python",
   "nbconvert_exporter": "python",
   "pygments_lexer": "ipython3",
   "version": "3.8.13"
  }
 },
 "nbformat": 4,
 "nbformat_minor": 5
}
