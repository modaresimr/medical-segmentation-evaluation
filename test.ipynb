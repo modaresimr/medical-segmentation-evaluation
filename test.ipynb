{
 "cells": [
  {
   "cell_type": "code",
   "execution_count": 146,
   "id": "9d228613-c0c6-427f-bf88-92bb5a8ba9cc",
   "metadata": {},
   "outputs": [
    {
     "data": {
      "image/png": "[encoded data removed]",
      "text/plain": [
       "<Figure size 432x288 with 3 Axes>"
      ]
     },
     "metadata": {
      "needs_background": "light"
     },
     "output_type": "display_data"
    },
    {
     "name": "stdout",
     "output_type": "stream",
     "text": [
      "1===================\n",
      "                                               Pixel     Other\n",
      "tp                                        [9825, 25]       NaN\n",
      "fn                                          [75, 75]       NaN\n",
      "fp                                          [75, 75]       NaN\n",
      "tn                                        [25, 9825]       NaN\n",
      "dice          [0.9924242424241922, 0.24999999999875]       NaN\n",
      "accuracy    [0.9849999999999015, 0.9849999999999015]       NaN\n",
      "iou        [0.9849624060149388, 0.14285714285632653]       NaN\n",
      "precision      [0.9924242424241422, 0.2499999999975]       NaN\n",
      "recall         [0.9924242424241422, 0.2499999999975]       NaN\n",
      "fscore         [0.9924242424241422, 0.2499999999975]       NaN\n",
      "fpr                     [0.75, 0.007575757575757576]       NaN\n",
      "hd                                               NaN  7.071068\n",
      "hd95                                             NaN  6.403124\n",
      "asd                                              NaN  3.847433\n",
      "assd                                             NaN  3.847433\n",
      "nsd                                              NaN  0.166667\n",
      "2===================\n",
      "                                              Pixel      Other\n",
      "tp                                      [7715, 780]        NaN\n",
      "fn                                       [660, 845]        NaN\n",
      "fp                                       [845, 660]        NaN\n",
      "tn                                      [780, 7715]        NaN\n",
      "dice       [0.9111307942131142, 0.5089722675365387]        NaN\n",
      "accuracy     [0.849499999999915, 0.849499999999915]        NaN\n",
      "iou        [0.8367678958784341, 0.3413566739604633]        NaN\n",
      "precision  [0.9012850467288667, 0.5416666666662905]        NaN\n",
      "recall     [0.9211940298506363, 0.4799999999997046]        NaN\n",
      "fscore     [0.9111307942130604, 0.5089722675363727]        NaN\n",
      "fpr                     [0.52, 0.07880597014925374]        NaN\n",
      "hd                                              NaN  17.000000\n",
      "hd95                                            NaN  12.922499\n",
      "asd                                             NaN   8.838246\n",
      "assd                                            NaN   8.665100\n",
      "nsd                                             NaN   0.060119\n",
      "3===================\n",
      "                                               Pixel      Other\n",
      "tp                                       [7540, 805]        NaN\n",
      "fn                                        [735, 920]        NaN\n",
      "fp                                        [920, 735]        NaN\n",
      "tn                                       [805, 7540]        NaN\n",
      "dice        [0.9011054675828561, 0.4931087289431874]        NaN\n",
      "accuracy    [0.8344999999999165, 0.8344999999999165]        NaN\n",
      "iou        [0.8200108754757128, 0.32723577235759055]        NaN\n",
      "precision   [0.8912529550826369, 0.5227272727269333]        NaN\n",
      "recall      [0.9111782477340288, 0.4666666666663961]        NaN\n",
      "fscore     [0.9011054675828023, 0.49310872894303637]        NaN\n",
      "fpr        [0.5333333333333333, 0.08882175226586103]        NaN\n",
      "hd                                               NaN  17.000000\n",
      "hd95                                             NaN  12.806248\n",
      "asd                                              NaN   8.147210\n",
      "assd                                             NaN   7.903655\n",
      "nsd                                              NaN   0.076904\n"
     ]
    }
   ],
   "source": [
    "import numpy as np\n",
    "all={i:{'gt':np.zeros((100,100)),'pred':np.zeros((100,100))} for i in  range(1,4)}\n",
    "\n",
    "\n",
    "all[1]['gt'][10:20,10:20]=1\n",
    "all[1]['pred'][5:15,5:15]=1\n",
    "\n",
    "all[2]['gt'][50:90,50:90]=1\n",
    "all[2]['gt'][85:90,45:90]=1\n",
    "all[2]['pred'][40:80,40:80]=1\n",
    "all[2]['pred'][40:80,73:77]=0\n",
    "\n",
    "all[3]['gt']=all[1]['gt']+all[2]['gt']\n",
    "all[3]['pred']=all[1]['pred']+all[2]['pred']\n",
    "\n",
    "\n",
    "import matplotlib.pyplot as plt\n",
    "\n",
    "for i in range(1,4):\n",
    "    plt.subplot(1,len(all),i)\n",
    "    plt.imshow(all[i]['gt']+all[i]['pred'])\n",
    "plt.show()\n",
    "\n",
    "import metric \n",
    "metrics={'Pixel':metric.PixelBasedCM(2),\n",
    "        'Other':metric.Other(2)}\n",
    "\n",
    "def calc_metrics(metrics,gt,pred,helper):\n",
    "    metric_res={}\n",
    "    for m in metrics:\n",
    "        metric_res[m]=metrics[m].evaluate(gt,pred,helper)\n",
    "    return metric_res\n",
    "\n",
    "helper=None\n",
    "import pandas as pd\n",
    "for i in range(1,4):\n",
    "    print(f'{i}===================')\n",
    "    res = calc_metrics(metrics, all[i]['gt'],all[i]['pred'],helper)\n",
    "    print(pd.DataFrame(res))\n",
    "        \n",
    "\n",
    "# print(res)"
   ]
  },
  {
   "cell_type": "code",
   "execution_count": 45,
   "id": "eaca24a6-fcdd-40ab-8ab5-589c429b7c6f",
   "metadata": {},
   "outputs": [
    {
     "data": {
      "image/png": "[encoded data removed]",
      "text/plain": [
       "<Figure size 432x288 with 1 Axes>"
      ]
     },
     "metadata": {
      "needs_background": "light"
     },
     "output_type": "display_data"
    }
   ],
   "source": [
    "from scipy.ndimage import generate_binary_structure, binary_erosion,distance_transform_edt\n",
    "reference = np.atleast_1d(all[3]['gt'].astype(bool))\n",
    "footprint = generate_binary_structure(reference.ndim, connectivity=1)\n",
    "from scipy.ndimage import label, find_objects\n",
    "x=~binary_erosion(reference, structure=footprint, iterations=1)& (reference)\n",
    "plt.imshow(x)\n",
    "plt.show()"
   ]
  },
  {
   "cell_type": "code",
   "execution_count": 186,
   "id": "272a0eb5-8227-4395-9eed-386d90c5137f",
   "metadata": {},
   "outputs": [
    {
     "name": "stdout",
     "output_type": "stream",
     "text": [
      "[1]\n",
      "{'detected': True, 'uniform_gt': 1.0, 'uniform_pred': 1.0, 'maxd': 4.0, 'hd': 7.0710678118654755, 'hd95': 5.665559131760026, 'hd_avg': 2.9184800132910613, 'hdn': 1.7677669529663689, 'hdn_95': 1.4163897829400065, 'hdn_avg': 0.7296200033227653}\n",
      "[7.07106781 6.40312424 5.83095189 5.38516481 5.09901951 5.\n",
      " 5.         5.         5.         5.         6.40312424 4.\n",
      " 5.83095189 3.         5.38516481 2.         5.09901951 1.\n",
      " 5.         0.         5.         1.         5.         2.\n",
      " 5.         3.         5.         4.         3.         2.\n",
      " 1.         0.         1.         2.         3.         4.        ]\n",
      "[2 3]\n",
      "{'detected': True, 'uniform_gt': 0.5, 'uniform_pred': 1.0, 'maxd': 19.0, 'hd': 19.0, 'hd95': 15.0, 'hd_avg': 6.86784296094997, 'hdn': 1.0, 'hdn_95': 0.7894736842105263, 'hdn_avg': 0.36146541899736684}\n",
      "[14.14213562 13.45362405 12.80624847 12.20655562 11.66190379 11.18033989\n",
      " 10.77032961 10.44030651 10.19803903 10.04987562 10.         10.\n",
      " 10.         10.         10.         10.         10.         10.\n",
      " 10.         10.         10.         10.         10.         10.\n",
      " 10.         10.         10.         10.         10.         10.\n",
      " 10.         10.         10.         10.         10.         10.\n",
      " 13.45362405  9.          9.          9.         12.80624847  8.\n",
      "  8.          8.         12.20655562  7.          7.          7.\n",
      " 11.66190379  6.          6.          6.         11.18033989  5.\n",
      "  5.          5.         10.77032961  4.          4.          4.\n",
      " 10.44030651  3.          3.          3.         10.19803903  2.\n",
      "  2.          2.         10.04987562  1.          1.          1.\n",
      " 10.          0.          0.          0.         10.          1.\n",
      "  1.          1.         10.          2.          2.          2.\n",
      " 10.          3.          3.          3.         10.          4.\n",
      "  4.          4.         10.          5.          5.          5.\n",
      " 10.          6.          6.          6.         10.          7.\n",
      "  7.          7.         10.          8.          8.          8.\n",
      " 10.          9.          9.          9.         10.         10.\n",
      " 10.         10.         10.         11.         11.         10.\n",
      " 10.         12.         12.         10.         10.         13.\n",
      " 12.         10.         10.         14.         12.         10.\n",
      " 10.         15.         12.         10.         10.         16.\n",
      " 12.         10.         10.         17.         12.         10.\n",
      " 10.         17.         12.         10.         10.         17.\n",
      " 12.         10.         10.         17.         12.         10.\n",
      " 10.         17.         12.         10.         10.         17.\n",
      " 12.         10.         10.         16.         12.         10.\n",
      " 10.         15.         12.         10.         10.         14.\n",
      " 12.         10.         10.         13.         12.         10.\n",
      "  9.43398113 12.         12.         10.          8.60232527 11.\n",
      " 11.         10.          7.81024968  7.21110255  6.70820393  6.32455532\n",
      "  6.          5.          4.          3.          2.          1.\n",
      "  0.          1.          2.          3.          4.          5.\n",
      "  6.          7.          8.          9.         10.         10.\n",
      " 10.         10.         10.         10.         10.         10.\n",
      " 10.         10.         10.         10.         10.         10.\n",
      " 10.         10.        ]\n",
      "70.71067811865476\n"
     ]
    },
    {
     "data": {
      "image/png": "[encoded data removed]",
      "text/plain": [
       "<Figure size 432x288 with 2 Axes>"
      ]
     },
     "metadata": {
      "needs_background": "light"
     },
     "output_type": "display_data"
    }
   ],
   "source": [
    "import cc3d\n",
    "reference=all[3]['gt']\n",
    "test=all[3]['pred']\n",
    "gt_labels, gN = cc3d.connected_components(reference, return_N=True) \n",
    "pred_labels, pN = cc3d.connected_components(test, return_N=True) \n",
    "\n",
    "plt.subplot(1,2,1)\n",
    "plt.imshow(gt_labels)\n",
    "plt.subplot(1,2,2)\n",
    "plt.imshow(pred_labels)\n",
    "\n",
    "footprint = generate_binary_structure(reference.ndim, connectivity=1)\n",
    "    \n",
    "for i in range(1,gN+1):\n",
    "    component_gt=gt_labels==i\n",
    "    \n",
    "    \n",
    "    rel_pred=pred_labels[component_gt]\n",
    "    pred_comp=np.unique(rel_pred)\n",
    "    pred_comp=pred_comp[pred_comp>0]\n",
    "    \n",
    "    component_pred=np.zeros(component_gt.shape,bool)\n",
    "    for l in pred_comp:\n",
    "        component_pred|=pred_labels==l\n",
    "    rel_gts=np.unique(component_gt[component_pred])\n",
    "    rel_gts=rel_gts[rel_gts>0]\n",
    "    \n",
    "    print(pred_comp)\n",
    "    border_gt=~binary_erosion(component_gt, structure=footprint, iterations=1)& (component_gt)\n",
    "    border_pred=~binary_erosion(component_pred, structure=footprint, iterations=1)& (component_pred)\n",
    "    dst=distance_transform_edt(~border_gt)\n",
    "    \n",
    "    plt.subplot(1,N+1,i)\n",
    "    plt.imshow(dst)\n",
    "#     print(dst[component_gt])\n",
    "    max_dst_gt=dst[component_gt].max()\n",
    "    hd=dst[component_pred].max()\n",
    "    hd_avg=dst[component_pred].mean()\n",
    "    hd95=np.quantile(dst[component_pred],0.95)\n",
    "    res={\n",
    "        'detected':sum(pred_comp)>0,\n",
    "        'uniform_gt':1./len(pred_comp),\n",
    "        'uniform_pred':1./len(rel_gts),\n",
    "        'maxd':max_dst_gt,\n",
    "    'hd':hd,\n",
    "    'hd95':hd95,\n",
    "    'hd_avg':hd_avg,\n",
    "    'hdn':hd/max_dst_gt,\n",
    "    'hdn_95':hd95/max_dst_gt,\n",
    "    'hdn_avg':hd_avg/max_dst_gt}\n",
    "    print(res)\n",
    "#     border_dst_shape=np.zeros(component_gt.shape,bool)\n",
    "#     border_dst_shape[border_pred]=dst[border_pred]\n",
    "#     plt.imshow(border_dst_shape)\n",
    "\n",
    "    print(dst[border_pred])\n",
    "    \n",
    "\n",
    "print(dst[0,0])"
   ]
  },
  {
   "cell_type": "code",
   "execution_count": 188,
   "id": "3f8f8987-fd3e-444e-92c4-4f05c7a981c1",
   "metadata": {},
   "outputs": [
    {
     "data": {
      "application/vnd.jupyter.widget-view+json": {
       "model_id": "40d952d2b4564d4fbd196f0b605013ff",
       "version_major": 2,
       "version_minor": 0
      },
      "text/plain": [
       "VBox(children=(HTML(value='<center>a</center>'), Canvas()), layout=Layout(border='1.5px solid', width='fit-con…"
      ]
     },
     "metadata": {},
     "output_type": "display_data"
    },
    {
     "ename": "ValueError",
     "evalue": "buffer is not large enough",
     "output_type": "error",
     "traceback": [
      "\u001b[0;31m---------------------------------------------------------------------------\u001b[0m",
      "\u001b[0;31mValueError\u001b[0m                                Traceback (most recent call last)",
      "Input \u001b[0;32mIn [188]\u001b[0m, in \u001b[0;36m<cell line: 9>\u001b[0;34m()\u001b[0m\n\u001b[1;32m      6\u001b[0m \u001b[38;5;66;03m# print(im3)\u001b[39;00m\n\u001b[1;32m      7\u001b[0m \u001b[38;5;66;03m# cv2.drawContours(base, contours, -1, (0,255,0), 3)\u001b[39;00m\n\u001b[1;32m      8\u001b[0m \u001b[38;5;28;01mfrom\u001b[39;00m \u001b[38;5;21;01mopencv_jupyter_ui\u001b[39;00m \u001b[38;5;28;01mimport\u001b[39;00m cv2_imshow\n\u001b[0;32m----> 9\u001b[0m \u001b[43mcv2_imshow\u001b[49m\u001b[43m(\u001b[49m\u001b[38;5;124;43m'\u001b[39;49m\u001b[38;5;124;43ma\u001b[39;49m\u001b[38;5;124;43m'\u001b[39;49m\u001b[43m,\u001b[49m\u001b[43mim3\u001b[49m\u001b[43m[\u001b[49m\u001b[38;5;241;43m0\u001b[39;49m\u001b[43m]\u001b[49m\u001b[43m)\u001b[49m\n",
      "File \u001b[0;32m~/environments/semanticsegment/.conda/lib/python3.10/site-packages/opencv_jupyter_ui/cv2_imshow.py:40\u001b[0m, in \u001b[0;36mcv2_imshow\u001b[0;34m(name, image, width, height, colorspace)\u001b[0m\n\u001b[1;32m     38\u001b[0m \u001b[38;5;28;01mif\u001b[39;00m colorspace\u001b[38;5;241m==\u001b[39m\u001b[38;5;124m'\u001b[39m\u001b[38;5;124mbgr\u001b[39m\u001b[38;5;124m'\u001b[39m:\n\u001b[1;32m     39\u001b[0m \timage\u001b[38;5;241m=\u001b[39mimage[:,:,::\u001b[38;5;241m-\u001b[39m\u001b[38;5;241m1\u001b[39m] \u001b[38;5;66;03m# convert to rgb\u001b[39;00m\n\u001b[0;32m---> 40\u001b[0m \u001b[43mcanvas\u001b[49m\u001b[38;5;241;43m.\u001b[39;49m\u001b[43mput_image_data\u001b[49m\u001b[43m(\u001b[49m\u001b[43mimage\u001b[49m\u001b[43m)\u001b[49m\n\u001b[1;32m     41\u001b[0m layout\u001b[38;5;241m=\u001b[39m{}\n\u001b[1;32m     43\u001b[0m canvas\u001b[38;5;241m.\u001b[39mwidth\u001b[38;5;241m=\u001b[39mimage\u001b[38;5;241m.\u001b[39mshape[\u001b[38;5;241m1\u001b[39m]\n",
      "File \u001b[0;32m~/environments/semanticsegment/.conda/lib/python3.10/site-packages/ipycanvas/canvas.py:1374\u001b[0m, in \u001b[0;36mCanvas.put_image_data\u001b[0;34m(self, image_data, x, y)\u001b[0m\n\u001b[1;32m   1367\u001b[0m \u001b[38;5;28;01mdef\u001b[39;00m \u001b[38;5;21mput_image_data\u001b[39m(\u001b[38;5;28mself\u001b[39m, image_data, x\u001b[38;5;241m=\u001b[39m\u001b[38;5;241m0\u001b[39m, y\u001b[38;5;241m=\u001b[39m\u001b[38;5;241m0\u001b[39m):\n\u001b[1;32m   1368\u001b[0m     \u001b[38;5;124;03m\"\"\"Draw an image on the Canvas.\u001b[39;00m\n\u001b[1;32m   1369\u001b[0m \n\u001b[1;32m   1370\u001b[0m \u001b[38;5;124;03m    ``image_data`` should be  a NumPy array containing the image to draw and ``x`` and ``y`` the pixel position where to\u001b[39;00m\n\u001b[1;32m   1371\u001b[0m \u001b[38;5;124;03m    draw. Unlike the CanvasRenderingContext2D.putImageData method, this method **is** affected by the canvas transformation\u001b[39;00m\n\u001b[1;32m   1372\u001b[0m \u001b[38;5;124;03m    matrix, and supports transparency.\u001b[39;00m\n\u001b[1;32m   1373\u001b[0m \u001b[38;5;124;03m    \"\"\"\u001b[39;00m\n\u001b[0;32m-> 1374\u001b[0m     image_buffer \u001b[38;5;241m=\u001b[39m \u001b[43mbinary_image\u001b[49m\u001b[43m(\u001b[49m\u001b[43mimage_data\u001b[49m\u001b[43m)\u001b[49m\n\u001b[1;32m   1375\u001b[0m     _CANVAS_MANAGER\u001b[38;5;241m.\u001b[39msend_draw_command(\n\u001b[1;32m   1376\u001b[0m         \u001b[38;5;28mself\u001b[39m, COMMANDS[\u001b[38;5;124m\"\u001b[39m\u001b[38;5;124mputImageData\u001b[39m\u001b[38;5;124m\"\u001b[39m], [x, y], [image_buffer]\n\u001b[1;32m   1377\u001b[0m     )\n",
      "File \u001b[0;32m~/environments/semanticsegment/.conda/lib/python3.10/site-packages/ipycanvas/utils.py:29\u001b[0m, in \u001b[0;36mbinary_image\u001b[0;34m(ar, quality)\u001b[0m\n\u001b[1;32m     27\u001b[0m \u001b[38;5;28;01mdef\u001b[39;00m \u001b[38;5;21mbinary_image\u001b[39m(ar, quality\u001b[38;5;241m=\u001b[39m\u001b[38;5;241m75\u001b[39m):\n\u001b[1;32m     28\u001b[0m     f \u001b[38;5;241m=\u001b[39m BytesIO()\n\u001b[0;32m---> 29\u001b[0m     \u001b[43mPILImage\u001b[49m\u001b[38;5;241;43m.\u001b[39;49m\u001b[43mfromarray\u001b[49m\u001b[43m(\u001b[49m\u001b[43mar\u001b[49m\u001b[38;5;241;43m.\u001b[39;49m\u001b[43mastype\u001b[49m\u001b[43m(\u001b[49m\u001b[43mnp\u001b[49m\u001b[38;5;241;43m.\u001b[39;49m\u001b[43muint8\u001b[49m\u001b[43m)\u001b[49m\u001b[43m,\u001b[49m\u001b[43m \u001b[49m\u001b[38;5;124;43m\"\u001b[39;49m\u001b[38;5;124;43mRGB\u001b[39;49m\u001b[38;5;124;43m\"\u001b[39;49m\u001b[43m \u001b[49m\u001b[38;5;28;43;01mif\u001b[39;49;00m\u001b[43m \u001b[49m\u001b[43mar\u001b[49m\u001b[38;5;241;43m.\u001b[39;49m\u001b[43mshape\u001b[49m\u001b[43m[\u001b[49m\u001b[38;5;241;43m2\u001b[39;49m\u001b[43m]\u001b[49m\u001b[43m \u001b[49m\u001b[38;5;241;43m==\u001b[39;49m\u001b[43m \u001b[49m\u001b[38;5;241;43m3\u001b[39;49m\u001b[43m \u001b[49m\u001b[38;5;28;43;01melse\u001b[39;49;00m\u001b[43m \u001b[49m\u001b[38;5;124;43m\"\u001b[39;49m\u001b[38;5;124;43mRGBA\u001b[39;49m\u001b[38;5;124;43m\"\u001b[39;49m\u001b[43m)\u001b[49m\u001b[38;5;241m.\u001b[39msave(\n\u001b[1;32m     30\u001b[0m         f, \u001b[38;5;124m\"\u001b[39m\u001b[38;5;124mJPEG\u001b[39m\u001b[38;5;124m\"\u001b[39m, quality\u001b[38;5;241m=\u001b[39mquality\n\u001b[1;32m     31\u001b[0m     )\n\u001b[1;32m     32\u001b[0m     \u001b[38;5;28;01mreturn\u001b[39;00m f\u001b[38;5;241m.\u001b[39mgetvalue()\n",
      "File \u001b[0;32m~/environments/semanticsegment/.conda/lib/python3.10/site-packages/PIL/Image.py:2949\u001b[0m, in \u001b[0;36mfromarray\u001b[0;34m(obj, mode)\u001b[0m\n\u001b[1;32m   2946\u001b[0m     \u001b[38;5;28;01melse\u001b[39;00m:\n\u001b[1;32m   2947\u001b[0m         obj \u001b[38;5;241m=\u001b[39m obj\u001b[38;5;241m.\u001b[39mtostring()\n\u001b[0;32m-> 2949\u001b[0m \u001b[38;5;28;01mreturn\u001b[39;00m \u001b[43mfrombuffer\u001b[49m\u001b[43m(\u001b[49m\u001b[43mmode\u001b[49m\u001b[43m,\u001b[49m\u001b[43m \u001b[49m\u001b[43msize\u001b[49m\u001b[43m,\u001b[49m\u001b[43m \u001b[49m\u001b[43mobj\u001b[49m\u001b[43m,\u001b[49m\u001b[43m \u001b[49m\u001b[38;5;124;43m\"\u001b[39;49m\u001b[38;5;124;43mraw\u001b[39;49m\u001b[38;5;124;43m\"\u001b[39;49m\u001b[43m,\u001b[49m\u001b[43m \u001b[49m\u001b[43mrawmode\u001b[49m\u001b[43m,\u001b[49m\u001b[43m \u001b[49m\u001b[38;5;241;43m0\u001b[39;49m\u001b[43m,\u001b[49m\u001b[43m \u001b[49m\u001b[38;5;241;43m1\u001b[39;49m\u001b[43m)\u001b[49m\n",
      "File \u001b[0;32m~/environments/semanticsegment/.conda/lib/python3.10/site-packages/PIL/Image.py:2872\u001b[0m, in \u001b[0;36mfrombuffer\u001b[0;34m(mode, size, data, decoder_name, *args)\u001b[0m\n\u001b[1;32m   2870\u001b[0m \u001b[38;5;28;01mif\u001b[39;00m args[\u001b[38;5;241m0\u001b[39m] \u001b[38;5;129;01min\u001b[39;00m _MAPMODES:\n\u001b[1;32m   2871\u001b[0m     im \u001b[38;5;241m=\u001b[39m new(mode, (\u001b[38;5;241m1\u001b[39m, \u001b[38;5;241m1\u001b[39m))\n\u001b[0;32m-> 2872\u001b[0m     im \u001b[38;5;241m=\u001b[39m im\u001b[38;5;241m.\u001b[39m_new(\u001b[43mcore\u001b[49m\u001b[38;5;241;43m.\u001b[39;49m\u001b[43mmap_buffer\u001b[49m\u001b[43m(\u001b[49m\u001b[43mdata\u001b[49m\u001b[43m,\u001b[49m\u001b[43m \u001b[49m\u001b[43msize\u001b[49m\u001b[43m,\u001b[49m\u001b[43m \u001b[49m\u001b[43mdecoder_name\u001b[49m\u001b[43m,\u001b[49m\u001b[43m \u001b[49m\u001b[38;5;241;43m0\u001b[39;49m\u001b[43m,\u001b[49m\u001b[43m \u001b[49m\u001b[43margs\u001b[49m\u001b[43m)\u001b[49m)\n\u001b[1;32m   2873\u001b[0m     im\u001b[38;5;241m.\u001b[39mreadonly \u001b[38;5;241m=\u001b[39m \u001b[38;5;241m1\u001b[39m\n\u001b[1;32m   2874\u001b[0m     \u001b[38;5;28;01mreturn\u001b[39;00m im\n",
      "\u001b[0;31mValueError\u001b[0m: buffer is not large enough"
     ]
    }
   ],
   "source": [
    "\n",
    "base=np.zeros((x.shape[0],x.shape[1],3), np.uint8)\n",
    "base[x>0]=(255,255,255)\n",
    "im2 = cv2.cvtColor(base,cv2.COLOR_BGR2GRAY) #gray scale image\n",
    "\n",
    "im3, contours = cv2.findContours(binaryImage,cv2.RETR_TREE,cv2.CHAIN_APPROX_NONE)\n",
    "# print(im3)\n",
    "# cv2.drawContours(base, contours, -1, (0,255,0), 3)\n",
    "from opencv_jupyter_ui import cv2_imshow\n",
    "cv2_imshow('a',im3[0])\n"
   ]
  },
  {
   "cell_type": "code",
   "execution_count": 116,
   "id": "6b3e1072",
   "metadata": {},
   "outputs": [
    {
     "ename": "TypeError",
     "evalue": "Invalid shape (396, 1, 2) for image data",
     "output_type": "error",
     "traceback": [
      "\u001b[0;31m---------------------------------------------------------------------------\u001b[0m",
      "\u001b[0;31mTypeError\u001b[0m                                 Traceback (most recent call last)",
      "Input \u001b[0;32mIn [116]\u001b[0m, in \u001b[0;36m<cell line: 3>\u001b[0;34m()\u001b[0m\n\u001b[1;32m      1\u001b[0m \u001b[38;5;66;03m# Threshold via Otsu:\u001b[39;00m\n\u001b[1;32m      2\u001b[0m _, binaryImage \u001b[38;5;241m=\u001b[39m cv2\u001b[38;5;241m.\u001b[39mthreshold(im2, \u001b[38;5;241m0\u001b[39m, \u001b[38;5;241m255\u001b[39m, cv2\u001b[38;5;241m.\u001b[39mTHRESH_BINARY_INV \u001b[38;5;241m+\u001b[39m cv2\u001b[38;5;241m.\u001b[39mTHRESH_OTSU)\n\u001b[0;32m----> 3\u001b[0m \u001b[43mplt\u001b[49m\u001b[38;5;241;43m.\u001b[39;49m\u001b[43mimshow\u001b[49m\u001b[43m(\u001b[49m\u001b[43mim3\u001b[49m\u001b[43m[\u001b[49m\u001b[38;5;241;43m0\u001b[39;49m\u001b[43m]\u001b[49m\u001b[43m)\u001b[49m\n",
      "File \u001b[0;32m~/environments/semanticsegment/.conda/lib/python3.10/site-packages/matplotlib/_api/deprecation.py:459\u001b[0m, in \u001b[0;36mmake_keyword_only.<locals>.wrapper\u001b[0;34m(*args, **kwargs)\u001b[0m\n\u001b[1;32m    453\u001b[0m \u001b[38;5;28;01mif\u001b[39;00m \u001b[38;5;28mlen\u001b[39m(args) \u001b[38;5;241m>\u001b[39m name_idx:\n\u001b[1;32m    454\u001b[0m     warn_deprecated(\n\u001b[1;32m    455\u001b[0m         since, message\u001b[38;5;241m=\u001b[39m\u001b[38;5;124m\"\u001b[39m\u001b[38;5;124mPassing the \u001b[39m\u001b[38;5;132;01m%(name)s\u001b[39;00m\u001b[38;5;124m \u001b[39m\u001b[38;5;132;01m%(obj_type)s\u001b[39;00m\u001b[38;5;124m \u001b[39m\u001b[38;5;124m\"\u001b[39m\n\u001b[1;32m    456\u001b[0m         \u001b[38;5;124m\"\u001b[39m\u001b[38;5;124mpositionally is deprecated since Matplotlib \u001b[39m\u001b[38;5;132;01m%(since)s\u001b[39;00m\u001b[38;5;124m; the \u001b[39m\u001b[38;5;124m\"\u001b[39m\n\u001b[1;32m    457\u001b[0m         \u001b[38;5;124m\"\u001b[39m\u001b[38;5;124mparameter will become keyword-only \u001b[39m\u001b[38;5;132;01m%(removal)s\u001b[39;00m\u001b[38;5;124m.\u001b[39m\u001b[38;5;124m\"\u001b[39m,\n\u001b[1;32m    458\u001b[0m         name\u001b[38;5;241m=\u001b[39mname, obj_type\u001b[38;5;241m=\u001b[39m\u001b[38;5;124mf\u001b[39m\u001b[38;5;124m\"\u001b[39m\u001b[38;5;124mparameter of \u001b[39m\u001b[38;5;132;01m{\u001b[39;00mfunc\u001b[38;5;241m.\u001b[39m\u001b[38;5;18m__name__\u001b[39m\u001b[38;5;132;01m}\u001b[39;00m\u001b[38;5;124m()\u001b[39m\u001b[38;5;124m\"\u001b[39m)\n\u001b[0;32m--> 459\u001b[0m \u001b[38;5;28;01mreturn\u001b[39;00m \u001b[43mfunc\u001b[49m\u001b[43m(\u001b[49m\u001b[38;5;241;43m*\u001b[39;49m\u001b[43margs\u001b[49m\u001b[43m,\u001b[49m\u001b[43m \u001b[49m\u001b[38;5;241;43m*\u001b[39;49m\u001b[38;5;241;43m*\u001b[39;49m\u001b[43mkwargs\u001b[49m\u001b[43m)\u001b[49m\n",
      "File \u001b[0;32m~/environments/semanticsegment/.conda/lib/python3.10/site-packages/matplotlib/pyplot.py:2652\u001b[0m, in \u001b[0;36mimshow\u001b[0;34m(X, cmap, norm, aspect, interpolation, alpha, vmin, vmax, origin, extent, interpolation_stage, filternorm, filterrad, resample, url, data, **kwargs)\u001b[0m\n\u001b[1;32m   2646\u001b[0m \u001b[38;5;129m@_copy_docstring_and_deprecators\u001b[39m(Axes\u001b[38;5;241m.\u001b[39mimshow)\n\u001b[1;32m   2647\u001b[0m \u001b[38;5;28;01mdef\u001b[39;00m \u001b[38;5;21mimshow\u001b[39m(\n\u001b[1;32m   2648\u001b[0m         X, cmap\u001b[38;5;241m=\u001b[39m\u001b[38;5;28;01mNone\u001b[39;00m, norm\u001b[38;5;241m=\u001b[39m\u001b[38;5;28;01mNone\u001b[39;00m, aspect\u001b[38;5;241m=\u001b[39m\u001b[38;5;28;01mNone\u001b[39;00m, interpolation\u001b[38;5;241m=\u001b[39m\u001b[38;5;28;01mNone\u001b[39;00m,\n\u001b[1;32m   2649\u001b[0m         alpha\u001b[38;5;241m=\u001b[39m\u001b[38;5;28;01mNone\u001b[39;00m, vmin\u001b[38;5;241m=\u001b[39m\u001b[38;5;28;01mNone\u001b[39;00m, vmax\u001b[38;5;241m=\u001b[39m\u001b[38;5;28;01mNone\u001b[39;00m, origin\u001b[38;5;241m=\u001b[39m\u001b[38;5;28;01mNone\u001b[39;00m, extent\u001b[38;5;241m=\u001b[39m\u001b[38;5;28;01mNone\u001b[39;00m, \u001b[38;5;241m*\u001b[39m,\n\u001b[1;32m   2650\u001b[0m         interpolation_stage\u001b[38;5;241m=\u001b[39m\u001b[38;5;28;01mNone\u001b[39;00m, filternorm\u001b[38;5;241m=\u001b[39m\u001b[38;5;28;01mTrue\u001b[39;00m, filterrad\u001b[38;5;241m=\u001b[39m\u001b[38;5;241m4.0\u001b[39m,\n\u001b[1;32m   2651\u001b[0m         resample\u001b[38;5;241m=\u001b[39m\u001b[38;5;28;01mNone\u001b[39;00m, url\u001b[38;5;241m=\u001b[39m\u001b[38;5;28;01mNone\u001b[39;00m, data\u001b[38;5;241m=\u001b[39m\u001b[38;5;28;01mNone\u001b[39;00m, \u001b[38;5;241m*\u001b[39m\u001b[38;5;241m*\u001b[39mkwargs):\n\u001b[0;32m-> 2652\u001b[0m     __ret \u001b[38;5;241m=\u001b[39m \u001b[43mgca\u001b[49m\u001b[43m(\u001b[49m\u001b[43m)\u001b[49m\u001b[38;5;241;43m.\u001b[39;49m\u001b[43mimshow\u001b[49m\u001b[43m(\u001b[49m\n\u001b[1;32m   2653\u001b[0m \u001b[43m        \u001b[49m\u001b[43mX\u001b[49m\u001b[43m,\u001b[49m\u001b[43m \u001b[49m\u001b[43mcmap\u001b[49m\u001b[38;5;241;43m=\u001b[39;49m\u001b[43mcmap\u001b[49m\u001b[43m,\u001b[49m\u001b[43m \u001b[49m\u001b[43mnorm\u001b[49m\u001b[38;5;241;43m=\u001b[39;49m\u001b[43mnorm\u001b[49m\u001b[43m,\u001b[49m\u001b[43m \u001b[49m\u001b[43maspect\u001b[49m\u001b[38;5;241;43m=\u001b[39;49m\u001b[43maspect\u001b[49m\u001b[43m,\u001b[49m\n\u001b[1;32m   2654\u001b[0m \u001b[43m        \u001b[49m\u001b[43minterpolation\u001b[49m\u001b[38;5;241;43m=\u001b[39;49m\u001b[43minterpolation\u001b[49m\u001b[43m,\u001b[49m\u001b[43m \u001b[49m\u001b[43malpha\u001b[49m\u001b[38;5;241;43m=\u001b[39;49m\u001b[43malpha\u001b[49m\u001b[43m,\u001b[49m\u001b[43m \u001b[49m\u001b[43mvmin\u001b[49m\u001b[38;5;241;43m=\u001b[39;49m\u001b[43mvmin\u001b[49m\u001b[43m,\u001b[49m\n\u001b[1;32m   2655\u001b[0m \u001b[43m        \u001b[49m\u001b[43mvmax\u001b[49m\u001b[38;5;241;43m=\u001b[39;49m\u001b[43mvmax\u001b[49m\u001b[43m,\u001b[49m\u001b[43m \u001b[49m\u001b[43morigin\u001b[49m\u001b[38;5;241;43m=\u001b[39;49m\u001b[43morigin\u001b[49m\u001b[43m,\u001b[49m\u001b[43m \u001b[49m\u001b[43mextent\u001b[49m\u001b[38;5;241;43m=\u001b[39;49m\u001b[43mextent\u001b[49m\u001b[43m,\u001b[49m\n\u001b[1;32m   2656\u001b[0m \u001b[43m        \u001b[49m\u001b[43minterpolation_stage\u001b[49m\u001b[38;5;241;43m=\u001b[39;49m\u001b[43minterpolation_stage\u001b[49m\u001b[43m,\u001b[49m\n\u001b[1;32m   2657\u001b[0m \u001b[43m        \u001b[49m\u001b[43mfilternorm\u001b[49m\u001b[38;5;241;43m=\u001b[39;49m\u001b[43mfilternorm\u001b[49m\u001b[43m,\u001b[49m\u001b[43m \u001b[49m\u001b[43mfilterrad\u001b[49m\u001b[38;5;241;43m=\u001b[39;49m\u001b[43mfilterrad\u001b[49m\u001b[43m,\u001b[49m\u001b[43m \u001b[49m\u001b[43mresample\u001b[49m\u001b[38;5;241;43m=\u001b[39;49m\u001b[43mresample\u001b[49m\u001b[43m,\u001b[49m\n\u001b[1;32m   2658\u001b[0m \u001b[43m        \u001b[49m\u001b[43murl\u001b[49m\u001b[38;5;241;43m=\u001b[39;49m\u001b[43murl\u001b[49m\u001b[43m,\u001b[49m\u001b[43m \u001b[49m\u001b[38;5;241;43m*\u001b[39;49m\u001b[38;5;241;43m*\u001b[39;49m\u001b[43m(\u001b[49m\u001b[43m{\u001b[49m\u001b[38;5;124;43m\"\u001b[39;49m\u001b[38;5;124;43mdata\u001b[39;49m\u001b[38;5;124;43m\"\u001b[39;49m\u001b[43m:\u001b[49m\u001b[43m \u001b[49m\u001b[43mdata\u001b[49m\u001b[43m}\u001b[49m\u001b[43m \u001b[49m\u001b[38;5;28;43;01mif\u001b[39;49;00m\u001b[43m \u001b[49m\u001b[43mdata\u001b[49m\u001b[43m \u001b[49m\u001b[38;5;129;43;01mis\u001b[39;49;00m\u001b[43m \u001b[49m\u001b[38;5;129;43;01mnot\u001b[39;49;00m\u001b[43m \u001b[49m\u001b[38;5;28;43;01mNone\u001b[39;49;00m\u001b[43m \u001b[49m\u001b[38;5;28;43;01melse\u001b[39;49;00m\u001b[43m \u001b[49m\u001b[43m{\u001b[49m\u001b[43m}\u001b[49m\u001b[43m)\u001b[49m\u001b[43m,\u001b[49m\n\u001b[1;32m   2659\u001b[0m \u001b[43m        \u001b[49m\u001b[38;5;241;43m*\u001b[39;49m\u001b[38;5;241;43m*\u001b[39;49m\u001b[43mkwargs\u001b[49m\u001b[43m)\u001b[49m\n\u001b[1;32m   2660\u001b[0m     sci(__ret)\n\u001b[1;32m   2661\u001b[0m     \u001b[38;5;28;01mreturn\u001b[39;00m __ret\n",
      "File \u001b[0;32m~/environments/semanticsegment/.conda/lib/python3.10/site-packages/matplotlib/_api/deprecation.py:459\u001b[0m, in \u001b[0;36mmake_keyword_only.<locals>.wrapper\u001b[0;34m(*args, **kwargs)\u001b[0m\n\u001b[1;32m    453\u001b[0m \u001b[38;5;28;01mif\u001b[39;00m \u001b[38;5;28mlen\u001b[39m(args) \u001b[38;5;241m>\u001b[39m name_idx:\n\u001b[1;32m    454\u001b[0m     warn_deprecated(\n\u001b[1;32m    455\u001b[0m         since, message\u001b[38;5;241m=\u001b[39m\u001b[38;5;124m\"\u001b[39m\u001b[38;5;124mPassing the \u001b[39m\u001b[38;5;132;01m%(name)s\u001b[39;00m\u001b[38;5;124m \u001b[39m\u001b[38;5;132;01m%(obj_type)s\u001b[39;00m\u001b[38;5;124m \u001b[39m\u001b[38;5;124m\"\u001b[39m\n\u001b[1;32m    456\u001b[0m         \u001b[38;5;124m\"\u001b[39m\u001b[38;5;124mpositionally is deprecated since Matplotlib \u001b[39m\u001b[38;5;132;01m%(since)s\u001b[39;00m\u001b[38;5;124m; the \u001b[39m\u001b[38;5;124m\"\u001b[39m\n\u001b[1;32m    457\u001b[0m         \u001b[38;5;124m\"\u001b[39m\u001b[38;5;124mparameter will become keyword-only \u001b[39m\u001b[38;5;132;01m%(removal)s\u001b[39;00m\u001b[38;5;124m.\u001b[39m\u001b[38;5;124m\"\u001b[39m,\n\u001b[1;32m    458\u001b[0m         name\u001b[38;5;241m=\u001b[39mname, obj_type\u001b[38;5;241m=\u001b[39m\u001b[38;5;124mf\u001b[39m\u001b[38;5;124m\"\u001b[39m\u001b[38;5;124mparameter of \u001b[39m\u001b[38;5;132;01m{\u001b[39;00mfunc\u001b[38;5;241m.\u001b[39m\u001b[38;5;18m__name__\u001b[39m\u001b[38;5;132;01m}\u001b[39;00m\u001b[38;5;124m()\u001b[39m\u001b[38;5;124m\"\u001b[39m)\n\u001b[0;32m--> 459\u001b[0m \u001b[38;5;28;01mreturn\u001b[39;00m \u001b[43mfunc\u001b[49m\u001b[43m(\u001b[49m\u001b[38;5;241;43m*\u001b[39;49m\u001b[43margs\u001b[49m\u001b[43m,\u001b[49m\u001b[43m \u001b[49m\u001b[38;5;241;43m*\u001b[39;49m\u001b[38;5;241;43m*\u001b[39;49m\u001b[43mkwargs\u001b[49m\u001b[43m)\u001b[49m\n",
      "File \u001b[0;32m~/environments/semanticsegment/.conda/lib/python3.10/site-packages/matplotlib/__init__.py:1412\u001b[0m, in \u001b[0;36m_preprocess_data.<locals>.inner\u001b[0;34m(ax, data, *args, **kwargs)\u001b[0m\n\u001b[1;32m   1409\u001b[0m \u001b[38;5;129m@functools\u001b[39m\u001b[38;5;241m.\u001b[39mwraps(func)\n\u001b[1;32m   1410\u001b[0m \u001b[38;5;28;01mdef\u001b[39;00m \u001b[38;5;21minner\u001b[39m(ax, \u001b[38;5;241m*\u001b[39margs, data\u001b[38;5;241m=\u001b[39m\u001b[38;5;28;01mNone\u001b[39;00m, \u001b[38;5;241m*\u001b[39m\u001b[38;5;241m*\u001b[39mkwargs):\n\u001b[1;32m   1411\u001b[0m     \u001b[38;5;28;01mif\u001b[39;00m data \u001b[38;5;129;01mis\u001b[39;00m \u001b[38;5;28;01mNone\u001b[39;00m:\n\u001b[0;32m-> 1412\u001b[0m         \u001b[38;5;28;01mreturn\u001b[39;00m \u001b[43mfunc\u001b[49m\u001b[43m(\u001b[49m\u001b[43max\u001b[49m\u001b[43m,\u001b[49m\u001b[43m \u001b[49m\u001b[38;5;241;43m*\u001b[39;49m\u001b[38;5;28;43mmap\u001b[39;49m\u001b[43m(\u001b[49m\u001b[43msanitize_sequence\u001b[49m\u001b[43m,\u001b[49m\u001b[43m \u001b[49m\u001b[43margs\u001b[49m\u001b[43m)\u001b[49m\u001b[43m,\u001b[49m\u001b[43m \u001b[49m\u001b[38;5;241;43m*\u001b[39;49m\u001b[38;5;241;43m*\u001b[39;49m\u001b[43mkwargs\u001b[49m\u001b[43m)\u001b[49m\n\u001b[1;32m   1414\u001b[0m     bound \u001b[38;5;241m=\u001b[39m new_sig\u001b[38;5;241m.\u001b[39mbind(ax, \u001b[38;5;241m*\u001b[39margs, \u001b[38;5;241m*\u001b[39m\u001b[38;5;241m*\u001b[39mkwargs)\n\u001b[1;32m   1415\u001b[0m     auto_label \u001b[38;5;241m=\u001b[39m (bound\u001b[38;5;241m.\u001b[39marguments\u001b[38;5;241m.\u001b[39mget(label_namer)\n\u001b[1;32m   1416\u001b[0m                   \u001b[38;5;129;01mor\u001b[39;00m bound\u001b[38;5;241m.\u001b[39mkwargs\u001b[38;5;241m.\u001b[39mget(label_namer))\n",
      "File \u001b[0;32m~/environments/semanticsegment/.conda/lib/python3.10/site-packages/matplotlib/axes/_axes.py:5481\u001b[0m, in \u001b[0;36mAxes.imshow\u001b[0;34m(self, X, cmap, norm, aspect, interpolation, alpha, vmin, vmax, origin, extent, interpolation_stage, filternorm, filterrad, resample, url, **kwargs)\u001b[0m\n\u001b[1;32m   5474\u001b[0m \u001b[38;5;28mself\u001b[39m\u001b[38;5;241m.\u001b[39mset_aspect(aspect)\n\u001b[1;32m   5475\u001b[0m im \u001b[38;5;241m=\u001b[39m mimage\u001b[38;5;241m.\u001b[39mAxesImage(\u001b[38;5;28mself\u001b[39m, cmap, norm, interpolation,\n\u001b[1;32m   5476\u001b[0m                       origin, extent, filternorm\u001b[38;5;241m=\u001b[39mfilternorm,\n\u001b[1;32m   5477\u001b[0m                       filterrad\u001b[38;5;241m=\u001b[39mfilterrad, resample\u001b[38;5;241m=\u001b[39mresample,\n\u001b[1;32m   5478\u001b[0m                       interpolation_stage\u001b[38;5;241m=\u001b[39minterpolation_stage,\n\u001b[1;32m   5479\u001b[0m                       \u001b[38;5;241m*\u001b[39m\u001b[38;5;241m*\u001b[39mkwargs)\n\u001b[0;32m-> 5481\u001b[0m \u001b[43mim\u001b[49m\u001b[38;5;241;43m.\u001b[39;49m\u001b[43mset_data\u001b[49m\u001b[43m(\u001b[49m\u001b[43mX\u001b[49m\u001b[43m)\u001b[49m\n\u001b[1;32m   5482\u001b[0m im\u001b[38;5;241m.\u001b[39mset_alpha(alpha)\n\u001b[1;32m   5483\u001b[0m \u001b[38;5;28;01mif\u001b[39;00m im\u001b[38;5;241m.\u001b[39mget_clip_path() \u001b[38;5;129;01mis\u001b[39;00m \u001b[38;5;28;01mNone\u001b[39;00m:\n\u001b[1;32m   5484\u001b[0m     \u001b[38;5;66;03m# image does not already have clipping set, clip to axes patch\u001b[39;00m\n",
      "File \u001b[0;32m~/environments/semanticsegment/.conda/lib/python3.10/site-packages/matplotlib/image.py:715\u001b[0m, in \u001b[0;36m_ImageBase.set_data\u001b[0;34m(self, A)\u001b[0m\n\u001b[1;32m    711\u001b[0m     \u001b[38;5;28mself\u001b[39m\u001b[38;5;241m.\u001b[39m_A \u001b[38;5;241m=\u001b[39m \u001b[38;5;28mself\u001b[39m\u001b[38;5;241m.\u001b[39m_A[:, :, \u001b[38;5;241m0\u001b[39m]\n\u001b[1;32m    713\u001b[0m \u001b[38;5;28;01mif\u001b[39;00m \u001b[38;5;129;01mnot\u001b[39;00m (\u001b[38;5;28mself\u001b[39m\u001b[38;5;241m.\u001b[39m_A\u001b[38;5;241m.\u001b[39mndim \u001b[38;5;241m==\u001b[39m \u001b[38;5;241m2\u001b[39m\n\u001b[1;32m    714\u001b[0m         \u001b[38;5;129;01mor\u001b[39;00m \u001b[38;5;28mself\u001b[39m\u001b[38;5;241m.\u001b[39m_A\u001b[38;5;241m.\u001b[39mndim \u001b[38;5;241m==\u001b[39m \u001b[38;5;241m3\u001b[39m \u001b[38;5;129;01mand\u001b[39;00m \u001b[38;5;28mself\u001b[39m\u001b[38;5;241m.\u001b[39m_A\u001b[38;5;241m.\u001b[39mshape[\u001b[38;5;241m-\u001b[39m\u001b[38;5;241m1\u001b[39m] \u001b[38;5;129;01min\u001b[39;00m [\u001b[38;5;241m3\u001b[39m, \u001b[38;5;241m4\u001b[39m]):\n\u001b[0;32m--> 715\u001b[0m     \u001b[38;5;28;01mraise\u001b[39;00m \u001b[38;5;167;01mTypeError\u001b[39;00m(\u001b[38;5;124m\"\u001b[39m\u001b[38;5;124mInvalid shape \u001b[39m\u001b[38;5;132;01m{}\u001b[39;00m\u001b[38;5;124m for image data\u001b[39m\u001b[38;5;124m\"\u001b[39m\n\u001b[1;32m    716\u001b[0m                     \u001b[38;5;241m.\u001b[39mformat(\u001b[38;5;28mself\u001b[39m\u001b[38;5;241m.\u001b[39m_A\u001b[38;5;241m.\u001b[39mshape))\n\u001b[1;32m    718\u001b[0m \u001b[38;5;28;01mif\u001b[39;00m \u001b[38;5;28mself\u001b[39m\u001b[38;5;241m.\u001b[39m_A\u001b[38;5;241m.\u001b[39mndim \u001b[38;5;241m==\u001b[39m \u001b[38;5;241m3\u001b[39m:\n\u001b[1;32m    719\u001b[0m     \u001b[38;5;66;03m# If the input data has values outside the valid range (after\u001b[39;00m\n\u001b[1;32m    720\u001b[0m     \u001b[38;5;66;03m# normalisation), we issue a warning and then clip X to the bounds\u001b[39;00m\n\u001b[1;32m    721\u001b[0m     \u001b[38;5;66;03m# - otherwise casting wraps extreme values, hiding outliers and\u001b[39;00m\n\u001b[1;32m    722\u001b[0m     \u001b[38;5;66;03m# making reliable interpretation impossible.\u001b[39;00m\n\u001b[1;32m    723\u001b[0m     high \u001b[38;5;241m=\u001b[39m \u001b[38;5;241m255\u001b[39m \u001b[38;5;28;01mif\u001b[39;00m np\u001b[38;5;241m.\u001b[39missubdtype(\u001b[38;5;28mself\u001b[39m\u001b[38;5;241m.\u001b[39m_A\u001b[38;5;241m.\u001b[39mdtype, np\u001b[38;5;241m.\u001b[39minteger) \u001b[38;5;28;01melse\u001b[39;00m \u001b[38;5;241m1\u001b[39m\n",
      "\u001b[0;31mTypeError\u001b[0m: Invalid shape (396, 1, 2) for image data"
     ]
    },
    {
     "data": {
      "image/png": "[encoded data removed]",
      "text/plain": [
       "<Figure size 432x288 with 1 Axes>"
      ]
     },
     "metadata": {
      "needs_background": "light"
     },
     "output_type": "display_data"
    }
   ],
   "source": [
    "# Threshold via Otsu:\n",
    "_, binaryImage = cv2.threshold(im2, 0, 255, cv2.THRESH_BINARY_INV + cv2.THRESH_OTSU)\n",
    "plt.imshow(im3[0])"
   ]
  },
  {
   "cell_type": "code",
   "execution_count": 128,
   "id": "83a4ec79",
   "metadata": {},
   "outputs": [
    {
     "data": {
      "text/plain": [
       "3"
      ]
     },
     "execution_count": 128,
     "metadata": {},
     "output_type": "execute_result"
    },
    {
     "data": {
      "image/png": "[encoded data removed]",
      "text/plain": [
       "<Figure size 432x288 with 1 Axes>"
      ]
     },
     "metadata": {
      "needs_background": "light"
     },
     "output_type": "display_data"
    }
   ],
   "source": [
    "output = cv2.connectedComponents(\n",
    "\tim2, 1, cv2.CV_32S)\n",
    "(numLabels, labels) = output\n",
    "plt.imshow(labels)\n",
    "numLabels"
   ]
  },
  {
   "cell_type": "code",
   "execution_count": 133,
   "id": "5b0a6b48",
   "metadata": {},
   "outputs": [
    {
     "data": {
      "text/plain": [
       "<matplotlib.image.AxesImage at 0x7fbc28a2efb0>"
      ]
     },
     "execution_count": 133,
     "metadata": {},
     "output_type": "execute_result"
    },
    {
     "data": {
      "image/png": "[encoded data removed]",
      "text/plain": [
       "<Figure size 432x288 with 1 Axes>"
      ]
     },
     "metadata": {
      "needs_background": "light"
     },
     "output_type": "display_data"
    }
   ],
   "source": [
    "import cc3d\n",
    "\n",
    "labels, N = cc3d.connected_components(x, return_N=True) # free\n",
    "plt.imshow(labels)"
   ]
  },
  {
   "cell_type": "code",
   "execution_count": 193,
   "id": "60f01000-b6fd-43f1-9bad-bc4bdca97ffb",
   "metadata": {},
   "outputs": [
    {
     "ename": "AttributeError",
     "evalue": "No skimage attribute marching_cubes_lewiner",
     "output_type": "error",
     "traceback": [
      "\u001b[0;31m---------------------------------------------------------------------------\u001b[0m",
      "\u001b[0;31mAttributeError\u001b[0m                            Traceback (most recent call last)",
      "Input \u001b[0;32mIn [193]\u001b[0m, in \u001b[0;36m<cell line: 20>\u001b[0;34m()\u001b[0m\n\u001b[1;32m     16\u001b[0m     ax\u001b[38;5;241m.\u001b[39mset_zlim(\u001b[38;5;241m0\u001b[39m, p\u001b[38;5;241m.\u001b[39mshape[\u001b[38;5;241m2\u001b[39m])\n\u001b[1;32m     18\u001b[0m     plt\u001b[38;5;241m.\u001b[39mshow()\n\u001b[0;32m---> 20\u001b[0m \u001b[43mplot_3d\u001b[49m\u001b[43m(\u001b[49m\u001b[43mgt\u001b[49m\u001b[43m)\u001b[49m\n",
      "Input \u001b[0;32mIn [193]\u001b[0m, in \u001b[0;36mplot_3d\u001b[0;34m(image, threshold)\u001b[0m\n\u001b[1;32m      5\u001b[0m \u001b[38;5;28;01mdef\u001b[39;00m \u001b[38;5;21mplot_3d\u001b[39m(image, threshold\u001b[38;5;241m=\u001b[39m\u001b[38;5;241m-\u001b[39m\u001b[38;5;241m300\u001b[39m): \n\u001b[1;32m      6\u001b[0m     p \u001b[38;5;241m=\u001b[39m image\u001b[38;5;66;03m#.transpose(2,1,0)\u001b[39;00m\n\u001b[0;32m----> 7\u001b[0m     verts, faces, normals, values \u001b[38;5;241m=\u001b[39m \u001b[43mskimage\u001b[49m\u001b[38;5;241;43m.\u001b[39;49m\u001b[43mmarching_cubes_lewiner\u001b[49m(p, threshold)\n\u001b[1;32m      8\u001b[0m     fig \u001b[38;5;241m=\u001b[39m plt\u001b[38;5;241m.\u001b[39mfigure(figsize\u001b[38;5;241m=\u001b[39m(\u001b[38;5;241m10\u001b[39m, \u001b[38;5;241m10\u001b[39m))\n\u001b[1;32m      9\u001b[0m     ax \u001b[38;5;241m=\u001b[39m fig\u001b[38;5;241m.\u001b[39madd_subplot(\u001b[38;5;241m111\u001b[39m, projection\u001b[38;5;241m=\u001b[39m\u001b[38;5;124m'\u001b[39m\u001b[38;5;124m3d\u001b[39m\u001b[38;5;124m'\u001b[39m)\n",
      "File \u001b[0;32m~/environments/semanticsegment/.conda/lib/python3.10/site-packages/skimage/_shared/lazy.py:69\u001b[0m, in \u001b[0;36mattach.<locals>.__getattr__\u001b[0;34m(name)\u001b[0m\n\u001b[1;32m     67\u001b[0m     \u001b[38;5;28;01mreturn\u001b[39;00m \u001b[38;5;28mgetattr\u001b[39m(submod, name)\n\u001b[1;32m     68\u001b[0m \u001b[38;5;28;01melse\u001b[39;00m:\n\u001b[0;32m---> 69\u001b[0m     \u001b[38;5;28;01mraise\u001b[39;00m \u001b[38;5;167;01mAttributeError\u001b[39;00m(\u001b[38;5;124mf\u001b[39m\u001b[38;5;124m'\u001b[39m\u001b[38;5;124mNo \u001b[39m\u001b[38;5;132;01m{\u001b[39;00mpackage_name\u001b[38;5;132;01m}\u001b[39;00m\u001b[38;5;124m attribute \u001b[39m\u001b[38;5;132;01m{\u001b[39;00mname\u001b[38;5;132;01m}\u001b[39;00m\u001b[38;5;124m'\u001b[39m)\n",
      "\u001b[0;31mAttributeError\u001b[0m: No skimage attribute marching_cubes_lewiner"
     ]
    }
   ],
   "source": [
    "from mpl_toolkits.mplot3d.art3d import Poly3DCollection\n",
    "import numpy as np\n",
    "import skimage \n",
    "\n",
    "def plot_3d(image, threshold=-300): \n",
    "    p = image#.transpose(2,1,0)\n",
    "    verts, faces, normals, values = skimage.marching_cubes_lewiner(p, threshold)\n",
    "    fig = plt.figure(figsize=(10, 10))\n",
    "    ax = fig.add_subplot(111, projection='3d')\n",
    "    mesh = Poly3DCollection(verts[faces], alpha=0.1)\n",
    "    face_color = [0.5, 0.5, 1]\n",
    "    mesh.set_facecolor(face_color)\n",
    "    ax.add_collection3d(mesh)\n",
    "    ax.set_xlim(0, p.shape[0])\n",
    "    ax.set_ylim(0, p.shape[1])\n",
    "    ax.set_zlim(0, p.shape[2])\n",
    "\n",
    "    plt.show()\n",
    "\n",
    "plot_3d(gt)"
   ]
  },
  {
   "cell_type": "code",
   "execution_count": 195,
   "id": "b4ecc694-5cb1-4475-bfc8-146e6cbcbbe5",
   "metadata": {},
   "outputs": [],
   "source": [
    "!echo \"ssh-rsa AAAAB3NzaC1yc2EAAAADAQABAAABAQC+3T4wtR/tedooRrbiozZ2GUKtTf0fXaE+iA6JKXh04cX3QIpe7BJCoItUVFYJ8TSjmPO0GoaxbzUwQlZO0CCQVKf7/dFt0bP0ceCz/Q8GEETq+GFv6wiLxBBkcobkgvbJ6V/pLfCNUFZ/bfowmFNCdOvSZuoLj8Mgu4wD9DiCAjj068oe9AUuDQnS94vZBg3Ljo11dzT8PvlxVR057HbZjVEWfGck3AxZrsZNBXfTO+N4sp3x/N+AHG767JCAh2hzYAPiVd72uCk2OtlKmaHW9fsPwLT+KZR4kt7vDI2l7CSugWtGDcUDD68q3VMgQbkz9/1+XgfmBoT6n3ESymzX MK\">>~/.ssh/authorized_keys"
   ]
  }
 ],
 "metadata": {
  "kernelspec": {
   "display_name": "Python 3 (ipykernel)",
   "language": "python",
   "name": "python3"
  },
  "language_info": {
   "codemirror_mode": {
    "name": "ipython",
    "version": 3
   },
   "file_extension": ".py",
   "mimetype": "text/x-python",
   "name": "python",
   "nbconvert_exporter": "python",
   "pygments_lexer": "ipython3",
   "version": "3.8.13"
  }
 },
 "nbformat": 4,
 "nbformat_minor": 5
}
