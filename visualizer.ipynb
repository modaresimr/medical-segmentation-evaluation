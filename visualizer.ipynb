{
 "cells": [
  {
   "cell_type": "code",
   "execution_count": 149,
   "id": "75b84844-6f8e-4b72-8559-e6e0e3698e19",
   "metadata": {},
   "outputs": [
    {
     "data": {
      "application/vnd.jupyter.widget-view+json": {
       "model_id": "8c183492acd34981bf6a37879968caa8",
       "version_major": 2,
       "version_minor": 0
      },
      "text/plain": [
       "interactive(children=(Dropdown(description='dataset', options=('Task001_LiverTumor', 'Task002_Pancreas', 'Task…"
      ]
     },
     "metadata": {},
     "output_type": "display_data"
    }
   ],
   "source": [
    "from ipywidgets import interact,interact_manual\n",
    "import os \n",
    "import nibabel as nib\n",
    "import plotui,CTHelper\n",
    "import importlib\n",
    "importlib.reload(plotui)\n",
    "importlib.reload(CTHelper)\n",
    "import numpy as np\n",
    "root='alg_out/'\n",
    "\n",
    "def getOrigPath(dataset,file):\n",
    "    return f'origdata/{dataset}/{file}'.replace('.nii.gz','_0000.nii.gz')\n",
    "@interact\n",
    "def selectData(dataset=['Task001_LiverTumor','Task002_Pancreas','Task003_Multiorgan']):\n",
    "    @interact#_manual\n",
    "    def fileviewer(file=sorted([f for f in os.listdir(f'{root}/{dataset}/GroundTruth') if os.path.isfile(getOrigPath(dataset,f))])):\n",
    "        global gt\n",
    "        gt = nib.load(f'{root}/{dataset}/GroundTruth/{file}').get_fdata()\n",
    "        gtmax=(gt.sum(axis=2).sum(axis=1).argmax(),gt.sum(axis=2).sum(axis=0).argmax(),gt.sum(axis=1).sum(axis=0).argmax())\n",
    "        print('maximum segment on x,y,z: ',gtmax)\n",
    "        \n",
    "        # plotui.multi_plot(gt2,{},args={'show_all_gt':0})\n",
    "        # plotui.plot_multi_slice_image(gt2,{})\n",
    "        origpath=getOrigPath(dataset,file)\n",
    "        \n",
    "        print(origpath)\n",
    "        global origimg,data\n",
    "        # origimg=nib.load(origpath).get_fdata() if os.path.isfile(origpath) else None\n",
    "#         origimg=np.clip(origimg,-300,300)\n",
    "        # data={typ:nib.load(f'{root}/{dataset}/{typ}/{file}').get_fdata() for typ in ['GroundTruth','CE','Dice','DiceCE','DiceFocal','DiceTopK10','TopK10']}\n",
    "        \n",
    "#         data={typ:nib.load(f'{root}/{dataset}/{typ}/{file}').get_fdata() for typ in ['GroundTruth','CE']}\n",
    "        if not(origimg  is None):\n",
    "            ax=['x','y','z']\n",
    "            plotui.orthoSlicer(origimg,{'gt':gt},gtmax)\n",
    "            for show_ax in range(3):\n",
    "                plotui.plot_multi_slice_image(origimg,data,args={\n",
    "                    'imglabel':f\"{dataset.split('_')[1]} {file.split('_')[1].split('.')[0]} {ax[show_ax]}={gtmax[show_ax]}\",\n",
    "                    # 'slices':(0,[309]),\n",
    "                    # 'slices':(1,[309]),\n",
    "                    # 'slices':(2,[100,200,300,400,500,600]),\n",
    "                    'slices':(show_ax,[gtmax[show_ax]]),\n",
    "                    'add_backimg':1,\n",
    "                    'clahe':1,\n",
    "                    'crop2roi':1,\n",
    "                    'zoom2segments':1,\n",
    "                    'add_notzoom_img':1,\n",
    "    #                 'interactive':1,                 \n",
    "                    'show_tp_fp_fn':1})\n",
    "        else:\n",
    "            plotui.plot_multi_slice_image(gt,data,args={'gtlabel':f\"{dataset.split('_')[1]} {file.split('_')[1].split('.')[0]} s={gtmaxz}\",'slices':[gtmaxz],'add_backimg':0,'show_tp_fp_fn':1})\n",
    "            print('original image not found')\n",
    "\n",
    "            \n",
    "    "
   ]
  },
  {
   "cell_type": "code",
   "execution_count": null,
   "id": "b2cc21de-d55d-48ff-be67-72ec2db83cd4",
   "metadata": {},
   "outputs": [],
   "source": []
  },
  {
   "cell_type": "code",
   "execution_count": 144,
   "id": "31347589-146d-48c8-bcd2-d7f3ade820a0",
   "metadata": {},
   "outputs": [],
   "source": [
    "import medpy\n",
    "from medpy.io import load\n",
    "image_data, image_header = medpy.io.load('origdata/Task001_LiverTumor/train_118_0000.nii.gz')"
   ]
  },
  {
   "cell_type": "code",
   "execution_count": 145,
   "id": "9182a47b-7cff-45a7-9975-f558a0f20bd8",
   "metadata": {},
   "outputs": [
    {
     "data": {
      "text/plain": [
       "{'spacing': (0.744140625, 0.744140625, 1.5),\n",
       " 'offset': (-196.1279296875, -352.1279296875, -546.5),\n",
       " 'direction': array([[1., 0., 0.],\n",
       "        [0., 1., 0.],\n",
       "        [0., 0., 1.]]),\n",
       " 'sitkimage': <SimpleITK.SimpleITK.Image; proxy of <Swig Object of type 'std::vector< itk::simple::Image >::value_type *' at 0x7f414bdb8720> >}"
      ]
     },
     "execution_count": 145,
     "metadata": {},
     "output_type": "execute_result"
    }
   ],
   "source": [
    "image_header.__dict__"
   ]
  }
 ],
 "metadata": {
  "kernelspec": {
   "display_name": "Python 3 (ipykernel)",
   "language": "python",
   "name": "python3"
  },
  "language_info": {
   "codemirror_mode": {
    "name": "ipython",
    "version": 3
   },
   "file_extension": ".py",
   "mimetype": "text/x-python",
   "name": "python",
   "nbconvert_exporter": "python",
   "pygments_lexer": "ipython3",
   "version": "3.8.13"
  }
 },
 "nbformat": 4,
 "nbformat_minor": 5
}
