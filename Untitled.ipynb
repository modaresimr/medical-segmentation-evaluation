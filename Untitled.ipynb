{
 "cells": [
  {
   "cell_type": "code",
   "execution_count": 6,
   "id": "0fb18579-0830-40d3-b8bc-878b7804ec03",
   "metadata": {},
   "outputs": [],
   "source": [
    "import numpy as np\n",
    "def _pattern_of_3d(indx):\n",
    "    return np.reshape([indx >> i & 1 for i in range(0, 27)],(3,3,3)).astype(np.uint8)\n"
   ]
  },
  {
   "cell_type": "code",
   "execution_count": 5,
   "id": "787570fa-1c37-420b-935d-cd29fcc85944",
   "metadata": {},
   "outputs": [
    {
     "data": {
      "text/plain": [
       "array([False, False, False, ..., False, False, False])"
      ]
     },
     "execution_count": 5,
     "metadata": {},
     "output_type": "execute_result"
    }
   ],
   "source": [
    "import pickle\n",
    "with open('pattern_table.pkl', 'rb') as file:\n",
    "    pattern_table=pickle.load(file)\n",
    "\n",
    "pattern_table"
   ]
  },
  {
   "cell_type": "code",
   "execution_count": 7,
   "id": "5f3984ff-8d21-486a-9471-8c896d7866b3",
   "metadata": {},
   "outputs": [],
   "source": [
    "# --------- Skeletonization by medial axis transform --------\n",
    "from scipy import ndimage as ndi\n",
    "\n",
    "def medial_axis_3d(image, mask=None, return_distance=False, *, random_state=None, spacing=None):\n",
    "    global _eight_connect\n",
    "    if mask is None:\n",
    "        masked_image = image.astype(bool)\n",
    "    else:\n",
    "        masked_image = image.astype(bool).copy()\n",
    "        masked_image[~mask] = False\n",
    "    #\n",
    "    # Build lookup table - three conditions\n",
    "    # 1. Keep only positive pixels (center_is_foreground array).\n",
    "    # AND\n",
    "    # 2. Keep if removing the pixel results in a different connectivity\n",
    "    # (if the number of connected components is different with and\n",
    "    # without the central pixel)\n",
    "    # OR\n",
    "    # 3. Keep if # pixels in neighborhood is 2 or less\n",
    "    # Note that table is independent of image\n",
    "    \n",
    "    # Build distance transform\n",
    "    distance = ndi.distance_transform_edt(masked_image,sampling=spacing)\n",
    "\n",
    "    if return_distance:\n",
    "        store_distance = distance.copy()\n",
    "\n",
    "    # Corners\n",
    "    # The processing order along the edge is critical to the shape of the\n",
    "    # resulting skeleton: if you process a corner first, that corner will\n",
    "    # be eroded and the skeleton will miss the arm from that corner. Pixels\n",
    "    # with fewer neighbors are more \"cornery\" and should be processed last.\n",
    "    # We use a cornerness_table lookup table where the score of a\n",
    "    # configuration is the number of background (0-value) pixels in the\n",
    "    # 3x3 neighborhood\n",
    "    #cornerness_table = np.array([9 - np.sum(_pattern_of(index))\n",
    "                                 # for index in range(512)])\n",
    "    # print('cornerness_table',cornerness_table)\n",
    "    # corner_score = _table_lookup(masked_image, cornerness_table)\n",
    "    corner_score=corner_score_3d(masked_image)\n",
    "    # print('corner_score',corner_score)\n",
    "    # Define arrays for inner loop\n",
    "    i, j, z = np.mgrid[0:image.shape[0], 0:image.shape[1],0:image.shape[2]]\n",
    "    # i, j = np.mgrid[0:image.shape[0], 0:image.shape[1]]\n",
    "    result = masked_image.copy()\n",
    "    distance = distance[result]\n",
    "    i = np.ascontiguousarray(i[result], dtype=np.intp)\n",
    "    j = np.ascontiguousarray(j[result], dtype=np.intp)\n",
    "    z = np.ascontiguousarray(z[result], dtype=np.intp)\n",
    "    result = np.ascontiguousarray(result, np.uint8)\n",
    "\n",
    "    # Determine the order in which pixels are processed.\n",
    "    # We use a random # for tiebreaking. Assign each pixel in the image a\n",
    "    # predictable, random # so that masking doesn't affect arbitrary choices\n",
    "    # of skeletons\n",
    "    #\n",
    "    generator = np.random.default_rng(random_state)\n",
    "    tiebreaker = generator.permutation(np.arange(masked_image.sum()))\n",
    "    order = np.lexsort((tiebreaker,\n",
    "                        corner_score[masked_image],\n",
    "                        distance))\n",
    "    order = np.ascontiguousarray(order, dtype=np.int32)\n",
    "\n",
    "    table = np.ascontiguousarray(pattern_table, dtype=np.uint8)\n",
    "    # Remove pixels not belonging to the medial axis\n",
    "    \n",
    "    _skeletonize_loop_3d(result, i, j,z, order, table)\n",
    "\n",
    "    result = result.astype(bool)\n",
    "    if mask is not None:\n",
    "        result[~mask] = image[~mask]\n",
    "    if return_distance:\n",
    "        return result, store_distance\n",
    "    else:\n",
    "        return result\n",
    "def _skeletonize_loop_3d(result,\n",
    "                      i,  j,z,\n",
    "                       order,  table):\n",
    "    print('3d')\n",
    "    inx=np.array([1<<i for i in range(27)]).reshape((3,3,3))\n",
    "    rows = result.shape[0]\n",
    "    cols = result.shape[1]\n",
    "    zs = result.shape[2]\n",
    "    l=0\n",
    "    if 1:\n",
    "        for index in range(order.shape[0]):\n",
    "            accumulator = 0\n",
    "            order_index = order[index]\n",
    "            ii = i[order_index]\n",
    "            jj = j[order_index]\n",
    "            zz = z[order_index]\n",
    "            if not result[ii,jj,zz]:continue\n",
    "            for iii in range(-1,2):\n",
    "                for jjj in range(-1,2):\n",
    "                    for zzz in range(-1,2):\n",
    "                        ax=ii+iii\n",
    "                        ay=jj+jjj\n",
    "                        az=zz+zzz\n",
    "                        # print(ax,ay,az, result[ax,ay,az])\n",
    "                        if ax<0 or ay<0 or az<0:continue\n",
    "                        if ax>=rows or ay>=cols or az>=zs:continue\n",
    "                        if result[ax,ay,az]:\n",
    "                            accumulator+=inx[1+iii,1+jjj,1+zzz]\n",
    "            if l<10 and (not table[accumulator]) and result[ii, jj,zz]:\n",
    "                \n",
    "                area=result[max(0,ii-1):min(rows,ii+1)+1,max(0,jj-1):min(cols,jj+1)+1,max(0,zz-1):min(zs,zz+1)+1]\n",
    "                # show= np.any(area!=_pattern_of_3d(accumulator))\n",
    "                show=1\n",
    "                if show:\n",
    "                    fig,axes=plt.subplots(2,3)\n",
    "                    for k in range(0,3):\n",
    "                        axes[0,k].imshow(area[...,k],vmin=0,vmax=1)\n",
    "                        # axes[1,k].imshow(_pattern_of_3d(accumulator)[...,k],vmin=0,vmax=1)\n",
    "                        axes[1,k].imshow(_pattern_of_3d(accumulator-(1<<13))[...,k],vmin=0,vmax=1)\n",
    "                    fig.suptitle(f'{table[accumulator]} {accumulator} {ii},{jj},{zz}')\n",
    "                    fig.show()\n",
    "                    l+=1\n",
    "            # Assign the value of table corresponding to the configuration\n",
    "            result[ii, jj,zz] = table[accumulator]\n",
    "            \n",
    "def corner_score_3d(img):\n",
    "    import itertools\n",
    "    corner=np.zeros(img.shape,int)\n",
    "    img=img.astype(bool)\n",
    "    rows,cols,zs=img.shape\n",
    "    for ii,jj,zz in itertools.product(range(rows),range(cols),range(zs)):\n",
    "        # print(f'ii={ii} jj={jj} zz={zz}')\n",
    "        for iii,jjj,zzz in itertools.product(range(-1,2),range(-1,2),range(-1,2)):\n",
    "            ax=ii+iii\n",
    "            ay=jj+jjj\n",
    "            az=zz+zzz\n",
    "            if ax<0 or ay<0 or az<0:\n",
    "                corner[ii,jj,zz]+=1\n",
    "                continue\n",
    "            if ax>=rows or ay>=cols or az>=zs:\n",
    "                corner[ii,jj,zz]+=1\n",
    "                continue\n",
    "            # if zzz==0 and zz==1:\n",
    "            #     print(f'ii={ii} jj={jj} zz={zz}      {iii},\\t{jjj},\\t{zzz}\\t {img[ax,ay,az]}')\n",
    "            if not img[ax,ay,az]:\n",
    "                corner[ii,jj,zz]+=1\n",
    "            # else:\n",
    "            #     print(ii,jj,zz)\n",
    "             \n",
    "    return corner\n"
   ]
  },
  {
   "cell_type": "code",
   "execution_count": 96,
   "id": "0abc0ca0-c8e8-4633-847e-35331134d93d",
   "metadata": {
    "collapsed": true,
    "jupyter": {
     "outputs_hidden": true
    },
    "tags": []
   },
   "outputs": [
    {
     "name": "stdout",
     "output_type": "stream",
     "text": [
      "3d\n"
     ]
    },
    {
     "data": {
      "image/png": "[encoded data removed]",
      "text/plain": [
       "<Figure size 432x288 with 6 Axes>"
      ]
     },
     "metadata": {
      "needs_background": "light"
     },
     "output_type": "display_data"
    },
    {
     "data": {
      "image/png": "[encoded data removed]",
      "text/plain": [
       "<Figure size 432x288 with 6 Axes>"
      ]
     },
     "metadata": {
      "needs_background": "light"
     },
     "output_type": "display_data"
    },
    {
     "data": {
      "image/png": "[encoded data removed]",
      "text/plain": [
       "<Figure size 432x288 with 6 Axes>"
      ]
     },
     "metadata": {
      "needs_background": "light"
     },
     "output_type": "display_data"
    },
    {
     "data": {
      "image/png": "[encoded data removed]",
      "text/plain": [
       "<Figure size 432x288 with 6 Axes>"
      ]
     },
     "metadata": {
      "needs_background": "light"
     },
     "output_type": "display_data"
    },
    {
     "data": {
      "image/png": "[encoded data removed]",
      "text/plain": [
       "<Figure size 432x288 with 6 Axes>"
      ]
     },
     "metadata": {
      "needs_background": "light"
     },
     "output_type": "display_data"
    },
    {
     "data": {
      "image/png": "[encoded data removed]",
      "text/plain": [
       "<Figure size 432x288 with 6 Axes>"
      ]
     },
     "metadata": {
      "needs_background": "light"
     },
     "output_type": "display_data"
    },
    {
     "data": {
      "image/png": "[encoded data removed]",
      "text/plain": [
       "<Figure size 432x288 with 6 Axes>"
      ]
     },
     "metadata": {
      "needs_background": "light"
     },
     "output_type": "display_data"
    },
    {
     "data": {
      "image/png": "[encoded data removed]",
      "text/plain": [
       "<Figure size 432x288 with 6 Axes>"
      ]
     },
     "metadata": {
      "needs_background": "light"
     },
     "output_type": "display_data"
    },
    {
     "data": {
      "image/png": "[encoded data removed]",
      "text/plain": [
       "<Figure size 432x288 with 6 Axes>"
      ]
     },
     "metadata": {
      "needs_background": "light"
     },
     "output_type": "display_data"
    },
    {
     "data": {
      "image/png": "[encoded data removed]",
      "text/plain": [
       "<Figure size 432x288 with 6 Axes>"
      ]
     },
     "metadata": {
      "needs_background": "light"
     },
     "output_type": "display_data"
    }
   ],
   "source": [
    "img2_3d=img_to_3d(img2,10,1)\n",
    "scale2_3d=[1,2,1]\n",
    "skel=medial_axis_3d(img2_3d,spacing=scale2_3d)\n",
    "# display_skel(img2_3d,skel,scale2_3d)"
   ]
  },
  {
   "cell_type": "code",
   "execution_count": 50,
   "id": "35f0e870-9f72-44f2-a456-5b0b53f4d5bf",
   "metadata": {},
   "outputs": [],
   "source": [
    "def is_border_pt(img,curr_border):\n",
    "    p=r=c=1\n",
    "    # border checking order is 1=N, 2=S, 3=E, 4=W, 5=U, 6=B\n",
    "    # print(img,curr_border)\n",
    "    return (curr_border == 1 and img[p, r, c-1] == 0 or\n",
    "                    curr_border == 2 and img[p, r, c+1] == 0 or\n",
    "                    curr_border == 3 and img[p, r+1, c] == 0 or\n",
    "                    curr_border == 4 and img[p, r-1, c] == 0 or\n",
    "                    curr_border == 5 and img[p+1, r, c] == 0 or\n",
    "                    curr_border == 6 and img[p-1, r, c] == 0)\n",
    "    "
   ]
  },
  {
   "cell_type": "code",
   "execution_count": 8,
   "id": "a448c249-3358-413e-bd3e-16fca77e97c7",
   "metadata": {},
   "outputs": [],
   "source": [
    "import numpy as np\n",
    "import matplotlib.pyplot as plt\n",
    "from skimage import draw\n",
    "# from skimage.morphology import skeletonize\n",
    "siz=40\n",
    "img1 = np.zeros((siz,siz))\n",
    "rr, cc = draw.ellipse(siz/2, siz/2, siz*.4, siz*.4, img1.shape)\n",
    "img1[rr, cc] = 1\n",
    "scale1=(1,1)\n",
    "\n",
    "img2 = np.zeros((siz, siz//2))\n",
    "rr, cc = draw.ellipse(siz/2, siz/4, siz*.4, siz*.2, img2.shape)\n",
    "img2[rr, cc] = 1\n",
    "scale2=(1,2)\n",
    "\n",
    "def display_skel(img,skeleton,spacing):\n",
    "      \n",
    "    if img.ndim==2:\n",
    "        b=skeleton+img\n",
    "        # b=myutils.array_trim(b,margin=4)\n",
    "        plt.imshow(b,aspect=spacing[0]/spacing[1])\n",
    "        plt.show()\n",
    "    else:\n",
    "        import k3d        \n",
    "        plot = k3d.plot()\n",
    "        plot+= k3d.voxels(img, opacity=0.1,scaling=spacing)\n",
    "        plot+= k3d.voxels(skeleton, opacity=1,scaling=spacing)\n",
    "        plot.display()\n",
    "def img_to_3d(img,zcount=10,margin=1):\n",
    "    newi=np.zeros((img.shape[0],img.shape[1],zcount+margin*2))\n",
    "    for i in range(margin,zcount+margin):\n",
    "        newi[...,i]=img\n",
    "    return newi"
   ]
  },
  {
   "cell_type": "code",
   "execution_count": 58,
   "id": "7a6d2b0b-eb5d-483b-9483-661fe44e9543",
   "metadata": {},
   "outputs": [
    {
     "name": "stdout",
     "output_type": "stream",
     "text": [
      "3d\n",
      "0   115043766 9 7 1\n"
     ]
    },
    {
     "ename": "NameError",
     "evalue": "name 'oooo' is not defined",
     "output_type": "error",
     "traceback": [
      "\u001b[0;31m---------------------------------------------------------------------------\u001b[0m",
      "\u001b[0;31mNameError\u001b[0m                                 Traceback (most recent call last)",
      "Input \u001b[0;32mIn [58]\u001b[0m, in \u001b[0;36m<cell line: 3>\u001b[0;34m()\u001b[0m\n\u001b[1;32m      1\u001b[0m img2_3d\u001b[38;5;241m=\u001b[39mimg_to_3d(img2,\u001b[38;5;241m10\u001b[39m,\u001b[38;5;241m1\u001b[39m)\n\u001b[1;32m      2\u001b[0m scale2_3d\u001b[38;5;241m=\u001b[39m[\u001b[38;5;241m1\u001b[39m,\u001b[38;5;241m2\u001b[39m,\u001b[38;5;241m1\u001b[39m]\n\u001b[0;32m----> 3\u001b[0m skel\u001b[38;5;241m=\u001b[39m\u001b[43mmedial_axis_3d\u001b[49m\u001b[43m(\u001b[49m\u001b[43mimg2_3d\u001b[49m\u001b[43m,\u001b[49m\u001b[43mspacing\u001b[49m\u001b[38;5;241;43m=\u001b[39;49m\u001b[43mscale2_3d\u001b[49m\u001b[43m)\u001b[49m\n\u001b[1;32m      4\u001b[0m display_skel(img2_3d,skel,scale2_3d)\n",
      "Input \u001b[0;32mIn [57]\u001b[0m, in \u001b[0;36mmedial_axis_3d\u001b[0;34m(image, mask, return_distance, random_state, spacing)\u001b[0m\n\u001b[1;32m     64\u001b[0m table \u001b[38;5;241m=\u001b[39m np\u001b[38;5;241m.\u001b[39mascontiguousarray(pattern_table, dtype\u001b[38;5;241m=\u001b[39mnp\u001b[38;5;241m.\u001b[39muint8)\n\u001b[1;32m     65\u001b[0m \u001b[38;5;66;03m# Remove pixels not belonging to the medial axis\u001b[39;00m\n\u001b[0;32m---> 67\u001b[0m \u001b[43m_skeletonize_loop_3d\u001b[49m\u001b[43m(\u001b[49m\u001b[43mresult\u001b[49m\u001b[43m,\u001b[49m\u001b[43m \u001b[49m\u001b[43mi\u001b[49m\u001b[43m,\u001b[49m\u001b[43m \u001b[49m\u001b[43mj\u001b[49m\u001b[43m,\u001b[49m\u001b[43mz\u001b[49m\u001b[43m,\u001b[49m\u001b[43m \u001b[49m\u001b[43morder\u001b[49m\u001b[43m,\u001b[49m\u001b[43m \u001b[49m\u001b[43mtable\u001b[49m\u001b[43m)\u001b[49m\n\u001b[1;32m     69\u001b[0m result \u001b[38;5;241m=\u001b[39m result\u001b[38;5;241m.\u001b[39mastype(\u001b[38;5;28mbool\u001b[39m)\n\u001b[1;32m     70\u001b[0m \u001b[38;5;28;01mif\u001b[39;00m mask \u001b[38;5;129;01mis\u001b[39;00m \u001b[38;5;129;01mnot\u001b[39;00m \u001b[38;5;28;01mNone\u001b[39;00m:\n",
      "Input \u001b[0;32mIn [57]\u001b[0m, in \u001b[0;36m_skeletonize_loop_3d\u001b[0;34m(result, i, j, z, order, table)\u001b[0m\n\u001b[1;32m    104\u001b[0m \u001b[38;5;28;01mif\u001b[39;00m \u001b[38;5;129;01mnot\u001b[39;00m table[accumulator] \u001b[38;5;129;01mand\u001b[39;00m result[ii, jj,zz]:\n\u001b[1;32m    105\u001b[0m     \u001b[38;5;28mprint\u001b[39m(table[accumulator],\u001b[38;5;124m'\u001b[39m\u001b[38;5;124m \u001b[39m\u001b[38;5;124m'\u001b[39m,accumulator,ii,jj,zz,)\n\u001b[0;32m--> 107\u001b[0m     \u001b[38;5;28mprint\u001b[39m(result[\u001b[38;5;28mmax\u001b[39m(\u001b[38;5;241m0\u001b[39m,ii\u001b[38;5;241m-\u001b[39m\u001b[38;5;241m1\u001b[39m):\u001b[38;5;28mmin\u001b[39m(rows,ii\u001b[38;5;241m+\u001b[39m\u001b[38;5;241m1\u001b[39m)\u001b[38;5;241m+\u001b[39m\u001b[38;5;241m1\u001b[39m,\u001b[38;5;28mmax\u001b[39m(\u001b[38;5;241m0\u001b[39m,jj\u001b[38;5;241m-\u001b[39m\u001b[38;5;241m1\u001b[39m):\u001b[38;5;28mmin\u001b[39m(cols,jj\u001b[38;5;241m+\u001b[39m\u001b[38;5;241m1\u001b[39m)\u001b[38;5;241m+\u001b[39m\u001b[38;5;241m1\u001b[39m,\u001b[38;5;28mmax\u001b[39m(\u001b[38;5;241m0\u001b[39m,zz\u001b[38;5;241m-\u001b[39m\u001b[38;5;241m1\u001b[39m):\u001b[38;5;28mmin\u001b[39m(zs,zz\u001b[38;5;241m+\u001b[39m\u001b[38;5;241m1\u001b[39m)\u001b[38;5;241m+\u001b[39m\u001b[38;5;241m1\u001b[39m][\u001b[38;5;241m.\u001b[39m\u001b[38;5;241m.\u001b[39m\u001b[38;5;241m.\u001b[39m,\u001b[43moooo\u001b[49m])\n\u001b[1;32m    108\u001b[0m     \u001b[38;5;28mprint\u001b[39m(_pattern_of_3d(accumulator))\n\u001b[1;32m    109\u001b[0m     \u001b[38;5;28mprint\u001b[39m()\n",
      "\u001b[0;31mNameError\u001b[0m: name 'oooo' is not defined"
     ]
    }
   ],
   "source": []
  },
  {
   "cell_type": "code",
   "execution_count": 9,
   "id": "325251b4-201b-4c59-a0ad-e2da3cc7f9b8",
   "metadata": {},
   "outputs": [
    {
     "ename": "NameError",
     "evalue": "name 'cy' is not defined",
     "output_type": "error",
     "traceback": [
      "\u001b[0;31m---------------------------------------------------------------------------\u001b[0m",
      "\u001b[0;31mNameError\u001b[0m                                 Traceback (most recent call last)",
      "Input \u001b[0;32mIn [9]\u001b[0m, in \u001b[0;36m<cell line: 2>\u001b[0;34m()\u001b[0m\n\u001b[1;32m      4\u001b[0m pattern\u001b[38;5;241m=\u001b[39m_pattern_of_3d(i)\n\u001b[1;32m      5\u001b[0m \u001b[38;5;66;03m# borderPoint=False\u001b[39;00m\n\u001b[1;32m      6\u001b[0m \u001b[38;5;66;03m# for border in range(1,7):\u001b[39;00m\n\u001b[1;32m      7\u001b[0m \u001b[38;5;66;03m#     if is_border_pt(pattern,border):\u001b[39;00m\n\u001b[0;32m   (...)\u001b[0m\n\u001b[1;32m     11\u001b[0m \u001b[38;5;66;03m#     pattern_table[i]=0\u001b[39;00m\n\u001b[1;32m     12\u001b[0m \u001b[38;5;66;03m#     break\u001b[39;00m\n\u001b[0;32m---> 13\u001b[0m \u001b[38;5;28;01mif\u001b[39;00m \u001b[38;5;129;01mnot\u001b[39;00m \u001b[43mcy\u001b[49m\u001b[38;5;241m.\u001b[39mmy_is_Euler_invariant(pattern):\n\u001b[1;32m     14\u001b[0m     \u001b[38;5;66;03m# print(pattern)\u001b[39;00m\n\u001b[1;32m     15\u001b[0m     \u001b[38;5;66;03m# print('---')\u001b[39;00m\n\u001b[1;32m     16\u001b[0m     pattern_table[i]\u001b[38;5;241m=\u001b[39m\u001b[38;5;241m0\u001b[39m\n",
      "\u001b[0;31mNameError\u001b[0m: name 'cy' is not defined"
     ]
    }
   ],
   "source": [
    "z=10\n",
    "for i,p in enumerate(pattern_table):\n",
    "    if p:\n",
    "        pattern=_pattern_of_3d(i)\n",
    "        # borderPoint=False\n",
    "        # for border in range(1,7):\n",
    "        #     if is_border_pt(pattern,border):\n",
    "        #         borderPoint=True\n",
    "        # if not borderPoint:\n",
    "        #     print(pattern)\n",
    "        #     pattern_table[i]=0\n",
    "        #     break\n",
    "        if not cy.my_is_Euler_invariant(pattern):\n",
    "            # print(pattern)\n",
    "            # print('---')\n",
    "            pattern_table[i]=0\n",
    "            # z-=1\n",
    "            # if z<0:\n",
    "            #     break"
   ]
  },
  {
   "cell_type": "code",
   "execution_count": 3,
   "id": "8ee83f26-f121-476e-8d37-fa6d0029b504",
   "metadata": {},
   "outputs": [],
   "source": [
    "import nibabel as nib\n",
    "import numpy as np\n",
    "import myutils\n",
    "gt = nib.load('alg_out/Task001_LiverTumor/GroundTruth/train_101.nii.gz')\n",
    "from nibabel.affines import voxel_sizes\n",
    "spacing=voxel_sizes(gt.affine)\n",
    "data=gt.get_fdata()\n",
    "data2=myutils.array_trim(data,ignore=[],threshold=2)"
   ]
  },
  {
   "cell_type": "code",
   "execution_count": 13,
   "id": "05457164-dd77-48d0-ad90-c760d98370ad",
   "metadata": {},
   "outputs": [
    {
     "data": {
      "application/vnd.jupyter.widget-view+json": {
       "model_id": "5f3c41b8d2ab4ab088ed0e322c28d2da",
       "version_major": 2,
       "version_minor": 0
      },
      "text/plain": [
       "Output()"
      ]
     },
     "metadata": {},
     "output_type": "display_data"
    }
   ],
   "source": [
    "import skimage\n",
    "import edt\n",
    "# img2_3d=img_to_3d(img2,100,1)\n",
    "dst=edt.edt(data2,spacing)\n",
    "skel=skimage.morphology.max_tree_local_maxima(dst, connectivity=4, parent=None, tree_traverser=None)\n",
    "display_skel(dst,skel,spacing)\n",
    "# plt.imshow(dst[...,4])\n",
    "\n",
    "# dst=edt.edt(img2_3d,[1,1,1])\n",
    "# skel=skimage.morphology.max_tree_local_maxima(dst, connectivity=3, parent=None, tree_traverser=None)\n",
    "# display_skel(img2_3d,skel,[1,1,1])\n",
    "# plt.imshow(dst[...,4])"
   ]
  },
  {
   "cell_type": "code",
   "execution_count": 1,
   "id": "ea3b7742-ef21-4403-a1d7-70a7a8dd7bdc",
   "metadata": {},
   "outputs": [
    {
     "name": "stdout",
     "output_type": "stream",
     "text": [
      "d\n"
     ]
    }
   ],
   "source": [
    "print('d')"
   ]
  }
 ],
 "metadata": {
  "kernelspec": {
   "display_name": "Python [conda env:.py3.8.3] *",
   "language": "python",
   "name": "conda-env-.py3.8.3-py"
  },
  "language_info": {
   "codemirror_mode": {
    "name": "ipython",
    "version": 3
   },
   "file_extension": ".py",
   "mimetype": "text/x-python",
   "name": "python",
   "nbconvert_exporter": "python",
   "pygments_lexer": "ipython3",
   "version": "3.8.13"
  }
 },
 "nbformat": 4,
 "nbformat_minor": 5
}
