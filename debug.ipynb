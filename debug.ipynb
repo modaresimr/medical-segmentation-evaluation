{
 "cells": [
  {
   "cell_type": "markdown",
   "id": "73727336-6150-4b5f-b3bb-642139b7a25b",
   "metadata": {},
   "source": [
    "# debug precompute"
   ]
  },
  {
   "cell_type": "markdown",
   "id": "58cca94f-c61c-4114-b957-b6eec55f9260",
   "metadata": {},
   "source": [
    "## Load data"
   ]
  },
  {
   "cell_type": "code",
   "execution_count": 1,
   "id": "417b8f92-22ad-41b2-92a3-0181a86ba006",
   "metadata": {},
   "outputs": [
    {
     "data": {
      "application/vnd.jupyter.widget-view+json": {
       "model_id": "b6300aecf27046cd94d7e7344a2be3c0",
       "version_major": 2,
       "version_minor": 0
      },
      "text/plain": [
       "interactive(children=(Dropdown(description='dataset', options=('Task001_LiverTumor', 'Task002_Pancreas', 'Task…"
      ]
     },
     "metadata": {},
     "output_type": "display_data"
    }
   ],
   "source": [
    "from ipywidgets import interact\n",
    "import os \n",
    "import nibabel as nib\n",
    "import plotui\n",
    "import numpy as np\n",
    "root='alg_out/'\n",
    "\n",
    "@interact\n",
    "def selectData(dataset=['Task001_LiverTumor','Task002_Pancreas','Task003_Multiorgan']):\n",
    "    @interact\n",
    "    def fileviewer(file=sorted(os.listdir(f'{root}/{dataset}/GroundTruth'))):\n",
    "        global gt,voxelsize\n",
    "        gt_nib = nib.load(f'{root}/{dataset}/GroundTruth/{file}')\n",
    "        gt=gt_nib.dataobj[...]\n",
    "        from nibabel.affines import voxel_sizes\n",
    "        voxelsize=voxel_sizes(gt_nib.affine)\n",
    "        @interact\n",
    "        def fileviewer2(typ=['CE','Dice','DiceCE','DiceFocal','DiceTopK10','TopK10']):\n",
    "                global pr\n",
    "                pr_nib = nib.load(f'{root}/{dataset}/{typ}/{file}')\n",
    "                if (voxelsize!=voxel_sizes(pr_nib.affine)).any():\n",
    "                    raise Error('voxel sizes are different')\n",
    "                pr=pr_nib.dataobj[...]\n",
    "                print(f'dataset {dataset} predict {typ} loaded....')\n",
    "                \n",
    "\n",
    "            "
   ]
  },
  {
   "cell_type": "code",
   "execution_count": null,
   "id": "e3e5d3a8-2655-40ef-9b7e-a0d15a57a1a4",
   "metadata": {
    "tags": []
   },
   "outputs": [
    {
     "data": {
      "text/plain": [
       "'Time   [Hits * PerHit] Function name [Called from] [Function Location]'"
      ]
     },
     "metadata": {},
     "output_type": "display_data"
    },
    {
     "data": {
      "application/vnd.jupyter.widget-view+json": {
       "model_id": "85295d65c5ab4fd881d976d1f32818cb",
       "version_major": 2,
       "version_minor": 0
      },
      "text/plain": [
       "Tree(nodes=(Node(name='root'),))"
      ]
     },
     "metadata": {},
     "output_type": "display_data"
    },
    {
     "name": "stdout",
     "output_type": "stream",
     "text": [
      "0\n"
     ]
    }
   ],
   "source": [
    "import importlib\n",
    "import metric\n",
    "importlib.reload(metric)\n",
    "\n",
    "mme=metric.MME(gt.max()+1,debug={'show_precompute':0})\n",
    "from auto_profiler import Profiler\n",
    "with Profiler(filterExternalLibraries=False):\n",
    "    helper=mme.precompute(gt,spacing=voxelsize)"
   ]
  },
  {
   "cell_type": "code",
   "execution_count": null,
   "id": "6af487e5-61fb-4af6-a019-4e12f422c7d8",
   "metadata": {},
   "outputs": [],
   "source": [
    "import matplotlib.pyplot as plt\n",
    "\n",
    "shape=gt[:,:,gt.sum(axis=0).sum(axis=0).argmax()].astype(np.uint8)\n",
    "shape=gt\n",
    "# shape=np.zeros((200,200),np.uint8)\n",
    "# shape[10:90,10:50]=1\n",
    "\n",
    "# shape[10:90,60:100]=1\n",
    "import cc3d\n",
    "marker=cc3d.connected_components(shape).astype(np.int8)\n",
    "# marker=scipy.ndimage.find_objects(shape.astype(np.int8),3)\n",
    "# plt.imshow(marker)\n"
   ]
  },
  {
   "cell_type": "code",
   "execution_count": null,
   "id": "f937826f-caf9-43bd-b3f5-412185344fb6",
   "metadata": {},
   "outputs": [],
   "source": [
    "from ipytree import Tree, Node\n",
    "tree = Tree(stripes=True)\n",
    "node2 = Node('node2',icon_style ='danger',icon='file')\n",
    "tree.add_node(node2)\n",
    "node3 = Node('node3', disabled=True)\n",
    "node4 = Node('node4',show_icon =False)\n",
    "node5 = Node('node5', [Node('1'), Node('2')])\n",
    "node2.add_node(node3)\n",
    "node2.add_node(node4)\n",
    "node2.add_node(node5)\n",
    "\n",
    "tree"
   ]
  },
  {
   "cell_type": "code",
   "execution_count": null,
   "id": "b8f6cf15-632c-4059-9de2-2bd4c5db6ae6",
   "metadata": {},
   "outputs": [],
   "source": [
    "pip install -e git+https://github.com/modaresimr/auto_profiler.git#egg=auto_profiler"
   ]
  },
  {
   "cell_type": "code",
   "execution_count": null,
   "id": "8d2f1edb-62f1-4a71-ab36-80db1c6bace5",
   "metadata": {},
   "outputs": [],
   "source": [
    "import scipy\n",
    "from auto_profiler import Timer\n",
    "# with Timer.instance('dis'):\n",
    "#     dst=scipy.ndimage.distance_transform_edt(shape>0)#+scipy.ndimage.distance_transform_edt(shape)\n",
    "ddd=np.ones(marker.shape,np.uint8)\n",
    "\n",
    "mark=-(marker)\n",
    "inp=dst\n",
    "with Timer.instance('watershed'):\n",
    "    res=scipy.ndimage.watershed_ift(inp.astype(np.uint8), mark.astype(np.int8), structure=None, output=None)\n",
    "res\n",
    "# plt.imshow(-dst)"
   ]
  },
  {
   "cell_type": "code",
   "execution_count": null,
   "id": "93413cad-473f-4fb2-94b9-59df38eab9a6",
   "metadata": {},
   "outputs": [],
   "source": [
    "res.min()"
   ]
  },
  {
   "cell_type": "code",
   "execution_count": null,
   "id": "0dc19b11-e2d4-41d6-a8a4-66119b5239f1",
   "metadata": {},
   "outputs": [],
   "source": [
    "mark\n"
   ]
  },
  {
   "cell_type": "code",
   "execution_count": null,
   "id": "0d53a9db-ce74-430f-baf3-c31f40d63c61",
   "metadata": {},
   "outputs": [],
   "source": [
    "marker.max()"
   ]
  }
 ],
 "metadata": {
  "kernelspec": {
   "display_name": "Python 3 (ipykernel)",
   "language": "python",
   "name": "python3"
  },
  "language_info": {
   "codemirror_mode": {
    "name": "ipython",
    "version": 3
   },
   "file_extension": ".py",
   "mimetype": "text/x-python",
   "name": "python",
   "nbconvert_exporter": "python",
   "pygments_lexer": "ipython3",
   "version": "3.8.13"
  }
 },
 "nbformat": 4,
 "nbformat_minor": 5
}
