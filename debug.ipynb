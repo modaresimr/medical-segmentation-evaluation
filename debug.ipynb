{
 "cells": [
  {
   "cell_type": "markdown",
   "id": "73727336-6150-4b5f-b3bb-642139b7a25b",
   "metadata": {},
   "source": [
    "# debug precompute"
   ]
  },
  {
   "cell_type": "markdown",
   "id": "58cca94f-c61c-4114-b957-b6eec55f9260",
   "metadata": {},
   "source": [
    "## Load data"
   ]
  },
  {
   "cell_type": "code",
   "execution_count": 18,
   "id": "417b8f92-22ad-41b2-92a3-0181a86ba006",
   "metadata": {},
   "outputs": [
    {
     "data": {
      "application/vnd.jupyter.widget-view+json": {
       "model_id": "fa8c3056cbe449cb8bd1b3d5f8034298",
       "version_major": 2,
       "version_minor": 0
      },
      "text/plain": [
       "interactive(children=(Dropdown(description='dataset', options=('Task001_LiverTumor', 'Task002_Pancreas', 'Task…"
      ]
     },
     "metadata": {},
     "output_type": "display_data"
    }
   ],
   "source": [
    "from ipywidgets import interact,IntSlider\n",
    "import os \n",
    "\n",
    "import numpy as np\n",
    "root='datasets/alg_out/'\n",
    "root_ct='datasets/ct'\n",
    "root_out='results'\n",
    "import eval_seg\n",
    "@interact\n",
    "def selectData(dataset=['Task001_LiverTumor','Task002_Pancreas','Task003_Multiorgan']):\n",
    "    @interact\n",
    "    def fileviewer(file=sorted(os.listdir(f'{root}/{dataset}/GroundTruth'))):\n",
    "        # file='train_242.nii.gz'\n",
    "        gt_orig,voxelsize_orig=eval_seg.io.read_nib(f'{root}/{dataset}/GroundTruth/{file}')\n",
    "        print(voxelsize_orig)\n",
    "        \n",
    "        ct,_=eval_seg.io.read_nib(f'{root_ct}/{dataset}/{file}'.replace('.nii.gz','_0000.nii.gz'))\n",
    "        ct = gt_orig if ct is None else ct \n",
    "    \n",
    "        gtmax=(gt_orig.sum(axis=2).sum(axis=1).argmax(),gt_orig.sum(axis=2).sum(axis=0).argmax(),gt_orig.sum(axis=1).sum(axis=0).argmax())      \n",
    "        eval_seg.ui.ortho_slicer(ct,{'gt':gt_orig},gtmax)\n",
    "\n",
    "            \n",
    "        @interact\n",
    "        def fileviewer2(typ=['CE','Dice','DiceCE','DiceFocal','DiceTopK10','TopK10']):\n",
    "                pr_orig,pr_voxel_size = eval_seg.io.read_nib(f'{root}/{dataset}/{typ}/{file}')\n",
    "                if (voxelsize_orig!=pr_voxel_size).any():\n",
    "                    raise Error('voxel sizes are different')\n",
    "                \n",
    "                eval_seg.ui.ortho_slicer(ct,{typ:pr_orig},gtmax)\n",
    "                only_axis_data={2:'z',-1:'All',0:'x',1:'y',2:'z'}\n",
    "                @interact \n",
    "                def only_axis(only_axis={only_axis_data[d]:d for d in only_axis_data}):\n",
    "                    axi,ax=only_axis,only_axis_data[only_axis]\n",
    "                    if axi == -1:\n",
    "                        global gt,pr,voxelsize\n",
    "                        gt=gt_orig\n",
    "                        pr=pr_orig\n",
    "                        voxelsize=voxelsize_orig\n",
    "                        print(f'dataset {dataset} ({pr.shape}) predict {typ} loaded....')\n",
    "                    else:                        \n",
    "                        @interact\n",
    "                        def onlyMaxFrame(frame=IntSlider(gtmax[axi],min=0,max=gt_orig.shape[axi])):\n",
    "                                global gt,pr,voxelsize\n",
    "                                gt,voxelsize=eval_seg.geometry.slice(gt_orig,voxelsize_orig,axi,[frame])\n",
    "                                pr,_=eval_seg.geometry.slice(pr_orig,voxelsize_orig,axi,[frame])\n",
    "                                \n",
    "                                eval_seg.ui.multi_plot_2d(\n",
    "                                    ct,\n",
    "                                    {'gt':gt,typ:pr},\n",
    "                                    args={\n",
    "                                        \"imglabel\": f\"{dataset.split('_')[1]} {file.split('_')[1].split('.')[0]} {ax}={gtmax[axi]}\",\n",
    "                                        'z_titles':[gtmax[axi]],\n",
    "                                        \"add_backimg\": 1,\n",
    "                                        \"clahe\": 1,\n",
    "                                        \"crop2roi\": 1,\n",
    "                                        \"zoom2segments\": 1,\n",
    "                                        \"add_notzoom_img\": 1,\n",
    "                                        #                 'interactive':1,\n",
    "                                        \"show_tp_fp_fn\": 1,\n",
    "                                        \"show\": 1,\n",
    "                                        \"spacing\": voxelsize,\n",
    "                                    },\n",
    "                                )\n",
    "\n",
    "                                print(f'dataset {dataset} ({pr.shape}) predict {typ} loaded....')\n",
    "            "
   ]
  },
  {
   "cell_type": "code",
   "execution_count": 23,
   "id": "e3e5d3a8-2655-40ef-9b7e-a0d15a57a1a4",
   "metadata": {
    "tags": []
   },
   "outputs": [
    {
     "data": {
      "text/plain": [
       "'Time   [Hits × PerHit] Function name [Called from] [Function Location]'"
      ]
     },
     "metadata": {},
     "output_type": "display_data"
    },
    {
     "data": {
      "application/vnd.jupyter.widget-view+json": {
       "model_id": "a7e98cae476a4ad6a523f9525d266d8f",
       "version_major": 2,
       "version_minor": 0
      },
      "text/plain": [
       "Tree(nodes=(Node(name='root'),))"
      ]
     },
     "metadata": {},
     "output_type": "display_data"
    }
   ],
   "source": [
    "import eval_seg\n",
    "eval_seg.reload()\n",
    "# importlib.reload(eval_seg)\n",
    "# importlib.reload(eval_seg.common)\n",
    "# # importlib.reload(eval_seg.common.cache)\n",
    "# importlib.reload(eval_seg.metrics)\n",
    "# importlib.reload(eval_seg.geometry)\n",
    "\n",
    "# importlib.reload(eval_seg.metrics.mme)\n",
    "\n",
    "mme=eval_seg.metrics.MME(int(gt.max()+1),debug={'show_precompute':1})\n",
    "\n",
    "from auto_profiler import Profiler\n",
    "with Profiler(filterExternalLibraries=False):\n",
    "    helper=mme.set_reference(gt,spacing=voxelsize)"
   ]
  },
  {
   "cell_type": "code",
   "execution_count": 24,
   "id": "edc90ceb-69a5-4c43-807a-54f0fcd9df37",
   "metadata": {
    "tags": []
   },
   "outputs": [
    {
     "data": {
      "text/plain": [
       "'Time   [Hits × PerHit] Function name [Called from] [Function Location]'"
      ]
     },
     "metadata": {},
     "output_type": "display_data"
    },
    {
     "data": {
      "application/vnd.jupyter.widget-view+json": {
       "model_id": "258305d472f74a0196e5d1f046d878e0",
       "version_major": 2,
       "version_minor": 0
      },
      "text/plain": [
       "Tree(nodes=(Node(name='root'),))"
      ]
     },
     "metadata": {},
     "output_type": "display_data"
    }
   ],
   "source": [
    "## import eval_seg\n",
    "eval_seg.reload()\n",
    "with Profiler(filterExternalLibraries=False):\n",
    "    ev,d=mme.evaluate(pr,return_debug_data=True)"
   ]
  },
  {
   "cell_type": "code",
   "execution_count": null,
   "id": "5c9de49b-2b43-4177-a11c-a1cb7b5c736f",
   "metadata": {},
   "outputs": [],
   "source": [
    "def myround(dic):\n",
    "    if type(dic)!=dict:\n",
    "        return round(dic,2)\n",
    "    return {k:myround(dic[k]) for k in dic}\n",
    "myround(ev)"
   ]
  },
  {
   "cell_type": "code",
   "execution_count": null,
   "id": "ef566c48-97bb-4445-a504-cc279f96cf4c",
   "metadata": {},
   "outputs": [],
   "source": [
    "\n",
    "#f'{d[1]!s}'\n",
    "# from pprint import pprint\n",
    "# pprint(d[1])\n",
    "eval_seg.reload()\n",
    "for i in d[1].gts:\n",
    "    dci=d[1].gts[i]\n",
    "    # from eval_seg.metrics.MME import debug_helper\n",
    "\n",
    "\n",
    "\n",
    "    aa={k:dci[k] for k in ['component_gt','rel_gt_comps','border_gt','component_pred','pred_in_region', 'border_pred']}\n",
    "    # aa={k:dci[k] for k in ['component_gt','component_pred','border_pred','skgtn_dst_pred_out_v', 'skgtn_dst_pred_in_v']}\n",
    "    aa={k:dci[k] for k in ['border_pred','skgtn_dst_pred_out_v', 'skgtn_dst_pred_in_v']}\n",
    "\n",
    "    aa={f'com{i}(y=TP,g=FN,b=FP)':dci['component_gt']*3+dci['component_pred']*1,**aa,'skeleton':mme.helper['class'][1]['components'][1]['gt_skeleton']}\n",
    "    eval_seg.ui.multi_plot_3d(aa)\n",
    "\n",
    "print(str(dci))"
   ]
  },
  {
   "cell_type": "code",
   "execution_count": 25,
   "id": "fb602e31-f0f8-4793-9362-f46fb147a1ef",
   "metadata": {},
   "outputs": [
    {
     "name": "stdout",
     "output_type": "stream",
     "text": [
      "<Object> dict_keys(['name', 'component_gt', 'component_pred', 'pred_comp', 'rel_gt_comps', 'rel_gts', 'pred_in_region', 'border_gt', 'border_pred', 'dst_border_gt2pred', 'dst_border_gt2pred_abs', 'gt_hd', 'gt_hd_avg', 'gt_hd95', 'pred_border_dst', 'dst_border_pred2gt', 'dst_border_pred2gt_abs', 'pred_hd', 'pred_hd_avg', 'pred_hd95', 'hd', 'hd_avg', 'hd95', 'skgtn_dst_in', 'border_pred_inside_gt', 'border_pred_outside_gt', 'skgtn_dst_pred_in', 'skgtn_dst_pred_in_v', 'skgtn_dst_out', 'skgtn_dst_pred_out', 'skgtn_dst_pred_out_v', 'skgtn_dst_pred', 'boundary_fp', 'boundary_fn', 'boundary_tp', 'volume_gt', 'volume_pred', 'volume_tp', 'volume_fn', 'volume_fp', 'volume_tp_rate', 'volume_fn_rate', 'volume_fp_rate'])\n",
      "<Object> dict_keys(['name', 'component_gt', 'component_pred', 'pred_comp', 'rel_gt_comps', 'rel_gts', 'pred_in_region', 'border_gt', 'border_pred', 'dst_border_gt2pred', 'dst_border_gt2pred_abs', 'gt_hd', 'gt_hd_avg', 'gt_hd95', 'pred_border_dst', 'dst_border_pred2gt', 'dst_border_pred2gt_abs', 'pred_hd', 'pred_hd_avg', 'pred_hd95', 'hd', 'hd_avg', 'hd95', 'skgtn_dst_in', 'border_pred_inside_gt', 'border_pred_outside_gt', 'skgtn_dst_pred_in', 'skgtn_dst_pred_in_v', 'skgtn_dst_out', 'skgtn_dst_pred_out', 'skgtn_dst_pred_out_v', 'skgtn_dst_pred', 'boundary_fp', 'boundary_fn', 'boundary_tp', 'volume_gt', 'volume_pred', 'volume_tp', 'volume_fn', 'volume_fp', 'volume_tp_rate', 'volume_fn_rate', 'volume_fp_rate'])\n"
     ]
    },
    {
     "data": {
      "image/png": "[encoded data removed]",
      "text/plain": [
       "<Figure size 720x3600 with 2 Axes>"
      ]
     },
     "metadata": {
      "needs_background": "light"
     },
     "output_type": "display_data"
    },
    {
     "data": {
      "image/png": "[encoded data removed]",
      "text/plain": [
       "<Figure size 720x3600 with 2 Axes>"
      ]
     },
     "metadata": {
      "needs_background": "light"
     },
     "output_type": "display_data"
    }
   ],
   "source": [
    "eval_seg.reload()\n",
    "for i in d[1].gts:\n",
    "    dci=d[1].gts[i]\n",
    "    print(str(dci))\n",
    "    \n",
    "    skel=eval_seg.geometry.skeletonize(dci.component_gt, spacing=voxelsize) > 0\n",
    "   \n",
    "    eval_seg.ui.multi_plot_3d({'gt':dci.component_gt, 'skel':skel})\n",
    "\n"
   ]
  },
  {
   "cell_type": "code",
   "execution_count": null,
   "id": "50c0b0f7-4acb-4662-800d-52796fbcc84d",
   "metadata": {},
   "outputs": [],
   "source": [
    "asd"
   ]
  },
  {
   "cell_type": "code",
   "execution_count": null,
   "id": "c7d4edb0-ca57-43c8-9710-54e4a08abdca",
   "metadata": {},
   "outputs": [],
   "source": [
    "x=mme.helper['class'][0]['components'][1]\n",
    "x.keys()"
   ]
  },
  {
   "cell_type": "code",
   "execution_count": null,
   "id": "172d719b-a672-4fa5-bde8-0940576bd78a",
   "metadata": {
    "tags": []
   },
   "outputs": [],
   "source": [
    "x=mme.helper['class'][1]['components'][1]\n",
    "import eval_seg\n",
    "eval_seg.reload()\n",
    "mme2=eval_seg.metrics.MME(gt.max()+1,debug={'show_precompute':1})\n",
    "mme2.debug_helper({a:x[a] for a in ['gt','skgt_normalized_dst','gt_skeleton','gt_skeleton_dst','gt_in_dst','gt_border']})\n",
    "# mme.debug_helper(x)"
   ]
  },
  {
   "cell_type": "code",
   "execution_count": null,
   "id": "48bb8ae4-cec2-4b0a-9ae6-406330e0cc08",
   "metadata": {
    "tags": []
   },
   "outputs": [],
   "source": [
    "from eval_seg import geometry\n",
    "# geometry.find_binary_boundary(x['gt'])\n",
    "mme.debug_helper({'gt':mme.helper['class'][1]['gt_labels'],'gt2':gt})"
   ]
  },
  {
   "cell_type": "code",
   "execution_count": null,
   "id": "ee919251-b8d8-4ae5-9102-2f8902811371",
   "metadata": {},
   "outputs": [],
   "source": [
    "import eval_seg\n",
    "# eval_seg.geometry.distance(x['gt_skeleton'],mode='out')\n",
    "x['gt_skeleton_dst']\n",
    "# x['gt_skeleton']"
   ]
  },
  {
   "cell_type": "code",
   "execution_count": null,
   "id": "3d8530b6-f366-47c8-af84-0c78857094d9",
   "metadata": {
    "tags": []
   },
   "outputs": [],
   "source": [
    "x=mme.helper['class'][1]['components'][1]\n",
    "import importlib\n",
    "import eval_seg\n",
    "eval_seg.reload()\n",
    "\n",
    "mme.debug_helper({a:x[a] for a in ['gt_skeleton','gt']})"
   ]
  },
  {
   "cell_type": "code",
   "execution_count": null,
   "id": "ec91a132-15ed-4311-afad-f653e77b9f5e",
   "metadata": {},
   "outputs": [],
   "source": [
    "eval_seg.reload()\n",
    "mme2=eval_seg.metrics.MME(gt.max()+1,debug={'show_precompute':1})\n",
    "helper=mme2.compress(mme.helper)"
   ]
  },
  {
   "cell_type": "code",
   "execution_count": null,
   "id": "a59320c3-d0af-4d8f-848b-139bbccee519",
   "metadata": {},
   "outputs": [],
   "source": [
    "mme.helper['class'][1]['components'][1]['gt_skeleton_dst_in'].max()"
   ]
  },
  {
   "cell_type": "code",
   "execution_count": null,
   "id": "bb561079-c4c2-441b-9078-0c5bb979740a",
   "metadata": {
    "scrolled": true,
    "tags": []
   },
   "outputs": [],
   "source": [
    "helper=mme.helper\n",
    "for x in helper['class'][0]['components'][0]:\n",
    "    display(x)\n",
    "    display(helper['class'][0]['components'][0][x])"
   ]
  },
  {
   "cell_type": "code",
   "execution_count": null,
   "id": "1c9bafa5-8b4b-4abe-a6df-8d5eaee3aa61",
   "metadata": {},
   "outputs": [],
   "source": [
    "import compress_pickle as pickle\n",
    "a=pickle.dumps(ali,compression='lz4')"
   ]
  },
  {
   "cell_type": "code",
   "execution_count": null,
   "id": "983a4c40-cca3-47f3-b612-ed92c7659562",
   "metadata": {},
   "outputs": [],
   "source": [
    "(helper['class'][0]['components'][0]['skgt_normalized_dst_out']>0).sum()"
   ]
  },
  {
   "cell_type": "code",
   "execution_count": null,
   "id": "d429a665-ef91-4ff5-8a49-1568b2a661ee",
   "metadata": {},
   "outputs": [],
   "source": [
    "zz=helper['class'][0]['components'][0]['skgt_normalized_dst_in'].astype(np.float32).todense()"
   ]
  },
  {
   "cell_type": "code",
   "execution_count": null,
   "id": "1d7374a9-edad-4e50-b3e6-8ebf3c7d6a3c",
   "metadata": {},
   "outputs": [],
   "source": [
    "len(a)/1024/1024"
   ]
  },
  {
   "cell_type": "code",
   "execution_count": null,
   "id": "3e3ca8b6-53ed-4f6e-9b7b-40e753140380",
   "metadata": {},
   "outputs": [],
   "source": [
    "zz.count_nonzero ()"
   ]
  },
  {
   "cell_type": "code",
   "execution_count": null,
   "id": "cba7b07a-3fae-4392-b5ec-fc36efe5296d",
   "metadata": {},
   "outputs": [],
   "source": [
    "from sparse import COO,DOK\n",
    "COO(zz,fill_value=0)"
   ]
  },
  {
   "cell_type": "code",
   "execution_count": null,
   "id": "a8de2a29-f243-4d98-aebb-9360bcb462be",
   "metadata": {},
   "outputs": [],
   "source": [
    "DOK(helper['class'][0]['gt_labels'].astype(np.uint8))"
   ]
  }
 ],
 "metadata": {
  "kernelspec": {
   "display_name": "Python [conda env:.py3.8.3] *",
   "language": "python",
   "name": "conda-env-.py3.8.3-py"
  },
  "language_info": {
   "codemirror_mode": {
    "name": "ipython",
    "version": 3
   },
   "file_extension": ".py",
   "mimetype": "text/x-python",
   "name": "python",
   "nbconvert_exporter": "python",
   "pygments_lexer": "ipython3",
   "version": "3.8.13"
  }
 },
 "nbformat": 4,
 "nbformat_minor": 5
}
