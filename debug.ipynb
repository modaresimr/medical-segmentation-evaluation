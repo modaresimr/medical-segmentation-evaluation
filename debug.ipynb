{
 "cells": [
  {
   "cell_type": "markdown",
   "id": "73727336-6150-4b5f-b3bb-642139b7a25b",
   "metadata": {},
   "source": [
    "# debug precompute"
   ]
  },
  {
   "cell_type": "markdown",
   "id": "f9efee7a-33b5-446b-853f-b18ee1c0e90a",
   "metadata": {},
   "source": [
    "# Run Function"
   ]
  },
  {
   "cell_type": "code",
   "execution_count": 17,
   "id": "cae627c2-f331-4e9c-a0f5-c58c0a53c117",
   "metadata": {},
   "outputs": [],
   "source": [
    "def run(gt,pr,voxelsize,name):\n",
    "    eval_seg.reload()\n",
    "    global mme, ev,d\n",
    "    num_classes=int(gt.max()+1)\n",
    "    mme=eval_seg.metrics.MME(num_classes,debug={'U':0,'B':0,'D':0,'T':0,'R':0})\n",
    "    \n",
    "    with Profiler(filterExternalLibraries=False):\n",
    "        mme.set_reference(gt,spacing=voxelsize)\n",
    "        ev,d=mme.evaluate(pr,return_debug_data=True)\n",
    "    \n",
    "    eval_seg.ui.plot_metric(ev,name)\n",
    "\n",
    "    for i in d[1].gts:\n",
    "        dci=d[1].gts[i]\n",
    "        aa={k:dci[k] for k in ['component_pred','border_pred_with_skel','skgtn_dst_pred_out_v', 'skgtn_dst_pred_in_v']}\n",
    "        skel=mme.helper['class'][1]['components'][i]['gt_skeleton']\n",
    "        aa={f'com{i}(y=TP,g=FN,b=FP)':dci['component_gt']*3+dci['component_pred']*1,**aa,'skeleton':skel}\n",
    "        eval_seg.ui.multi_plot_3d(aa,spacing=voxelsize)\n",
    "    "
   ]
  },
  {
   "cell_type": "markdown",
   "id": "58cca94f-c61c-4114-b957-b6eec55f9260",
   "metadata": {},
   "source": [
    "## Load data"
   ]
  },
  {
   "cell_type": "code",
   "execution_count": 19,
   "id": "417b8f92-22ad-41b2-92a3-0181a86ba006",
   "metadata": {},
   "outputs": [
    {
     "data": {
      "application/vnd.jupyter.widget-view+json": {
       "model_id": "947741aaf21449479ba8905972eabde9",
       "version_major": 2,
       "version_minor": 0
      },
      "text/plain": [
       "interactive(children=(Dropdown(description='dataset', options=('Task001_LiverTumor', 'Task002_Pancreas', 'Task…"
      ]
     },
     "metadata": {},
     "output_type": "display_data"
    }
   ],
   "source": [
    "from ipywidgets import interact,IntSlider\n",
    "import os \n",
    "import pandas as pd\n",
    "from auto_profiler import Profiler\n",
    "import numpy as np\n",
    "root='datasets/alg_out/'\n",
    "root_ct='datasets/ct'\n",
    "root_out='results'\n",
    "import eval_seg\n",
    "eval_seg.reload()\n",
    "\n",
    "\n",
    "@interact\n",
    "def selectData(dataset=['Task001_LiverTumor','Task002_Pancreas','Task003_Multiorgan']):\n",
    "    @interact\n",
    "    # def fileviewer(file=sorted(os.listdir(f'{root}/{dataset}/GroundTruth'))):\n",
    "    def fileviewer(file=sorted([f.replace('_0000.','.') for f in os.listdir(f'{root_ct}/{dataset}/')])):       \n",
    "        # file='train_330.nii.gz'\n",
    "        gt_orig,voxelsize_orig=eval_seg.io.read_nib(f'{root}/{dataset}/GroundTruth/{file}')\n",
    "        print(voxelsize_orig)\n",
    "        \n",
    "        ct_orig,_=eval_seg.io.read_nib(f'{root_ct}/{dataset}/{file}'.replace('.nii.gz','_0000.nii.gz'))\n",
    "        ct_orig = gt_orig if ct_orig is None else ct_orig \n",
    "    \n",
    "        gtmax=(gt_orig.sum(axis=2).sum(axis=1).argmax(),gt_orig.sum(axis=2).sum(axis=0).argmax(),gt_orig.sum(axis=1).sum(axis=0).argmax())      \n",
    "        # eval_seg.ui.ortho_slicer(ct_orig,{'gt':gt_orig},gtmax,spacing=voxelsize_orig)\n",
    "\n",
    "            \n",
    "        @interact\n",
    "        def fileviewer2(typ=['CE','Dice','DiceCE','DiceFocal','DiceTopK10','TopK10']):\n",
    "                pr_orig,pr_voxel_size = eval_seg.io.read_nib(f'{root}/{dataset}/{typ}/{file}')\n",
    "                if (voxelsize_orig!=pr_voxel_size).any():\n",
    "                    raise Error('voxel sizes are different')\n",
    "                # global name\n",
    "                name=f'{dataset}-{file}-{typ}'\n",
    "                # eval_seg.ui.ortho_slicer(ct_orig,{typ:pr_orig},gtmax,spacing=voxelsize_orig)\n",
    "                only_axis_data={2:'z',-1:'All',0:'x',1:'y',2:'z'}\n",
    "                @interact \n",
    "                def only_axis(only_axis={only_axis_data[d]:d for d in only_axis_data}):\n",
    "                    axi,ax=only_axis,only_axis_data[only_axis]\n",
    "                    if axi == -1:\n",
    "                        # global gt,pr,voxelsize\n",
    "                        gt=gt_orig\n",
    "                        pr=pr_orig\n",
    "                        voxelsize=voxelsize_orig\n",
    "                        print(f'dataset {dataset} ({pr.shape}) predict {typ} loaded....')\n",
    "                        run(gt,pr,voxelsize,name)\n",
    "                    else:                        \n",
    "                        @interact\n",
    "                        def onlyMaxFrame(frame=IntSlider(gtmax[axi],min=0,max=gt_orig.shape[axi]-1)):\n",
    "                                # global gt,pr,voxelsize\n",
    "                                eval_seg.reload()\n",
    "                                gt,voxelsize=eval_seg.geometry.slice(gt_orig,voxelsize_orig,axi,[frame])\n",
    "                                # print('new',voxelsize)\n",
    "                                pr,_=eval_seg.geometry.slice(pr_orig,voxelsize_orig,axi,[frame])\n",
    "                                ct,_=eval_seg.geometry.slice(ct_orig,voxelsize_orig,axi,[frame])\n",
    "                                print(gt.shape)\n",
    "                                eval_seg.ui.multi_plot_2d(\n",
    "                                    ct,\n",
    "                                    {'GroundTruth':gt,typ:pr},\n",
    "                                    spacing=voxelsize,\n",
    "                                    args={\n",
    "                                        \"imglabel\": f\"{dataset.split('_')[1]} {file.split('_')[1].split('.')[0]} {ax}={frame}\",\n",
    "                                        'z_titles':[frame],\n",
    "                                        \"add_backimg\": 1,\n",
    "                                        \"clahe\": 1,\n",
    "                                        \"crop2roi\": 1,\n",
    "                                        \"zoom2segments\": 1,\n",
    "                                        \"add_notzoom_img\": 1,\n",
    "                                        #                 'interactive':1,\n",
    "                                        \"show_tp_fp_fn\": 1,\n",
    "                                        \"show\": 1,\n",
    "                                        \"spacing\": voxelsize,\n",
    "                                    },\n",
    "                                )\n",
    "\n",
    "                                print(f'dataset {dataset} ({pr.shape}) predict {typ} loaded....')\n",
    "                                \n",
    "                                run(gt,pr,voxelsize,name)\n",
    "                                \n"
   ]
  },
  {
   "cell_type": "markdown",
   "id": "13dce09c-ac67-4396-b0a9-e2cf052a3f8a",
   "metadata": {},
   "source": [
    "# Details"
   ]
  },
  {
   "cell_type": "code",
   "execution_count": 3,
   "id": "ef566c48-97bb-4445-a504-cc279f96cf4c",
   "metadata": {},
   "outputs": [
    {
     "name": "stdout",
     "output_type": "stream",
     "text": [
      "<Object> dict_keys(['name', 'component_gt', 'component_pred', 'tpuc', 'tpu', 'pred_in_region', 'volume_gt', 'volume_pred', 'volume_tp', 'volume_fn', 'volume_fp', 'volume_tp_rate', 'volume_fn_rate', 'volume_fp_rate', 'border_gt', 'gt_skel', 'border_pred_with_skel', 'skgtn_dst_in', 'skgtn_dst_pred_in', 'skgtn_dst_pred_in_v', 'skgtn_dst_out', 'skgtn_dst_pred_out', 'skgtn_dst_pred_out_v', 'skgtn_dst_pred', 'boundary_fp', 'boundary_fn', 'boundary_tp'])\n"
     ]
    },
    {
     "data": {
      "image/png": "[encoded data removed]",
      "text/plain": [
       "<Figure size 1008x3600 with 6 Axes>"
      ]
     },
     "metadata": {
      "needs_background": "light"
     },
     "output_type": "display_data"
    }
   ],
   "source": [
    "eval_seg.reload()\n",
    "for i in d[1].gts:\n",
    "    dci=d[1].gts[i]\n",
    "    # aa={k:dci[k] for k in ['component_gt','rel_gt_comps','border_gt','component_pred','pred_in_region', 'border_pred']}\n",
    "    # aa={k:dci[k] for k in ['component_gt','component_pred','border_pred','skgtn_dst_pred_out_v', 'skgtn_dst_pred_in_v']}\n",
    "    aa={k:dci[k] for k in ['component_pred','border_pred_with_skel','skgtn_dst_pred_out_v', 'skgtn_dst_pred_in_v']}\n",
    "    # aa={k:dci[k] for k in ['border_pred','skgtn_dst_out', 'skgtn_dst_in']}\n",
    "    # skel2=eval_seg.geometry.skeletonize(dci['component_gt'], spacing=voxelsize)\n",
    "    # skel=skel=skimage.transform.resize(skel2*1, cmi['gt'].shape,clip=0, preserve_range=True, mode='edge')>0\n",
    "    skel=mme.helper['class'][1]['components'][i]['gt_skeleton']\n",
    "    aa={f'com{i}(y=TP,g=FN,b=FP)':dci['component_gt']*3+dci['component_pred']*1,**aa,'skeleton':skel}\n",
    "    eval_seg.ui.multi_plot_3d(aa)\n",
    "    # break\n",
    "print(str(dci))"
   ]
  },
  {
   "cell_type": "code",
   "execution_count": null,
   "id": "fb602e31-f0f8-4793-9362-f46fb147a1ef",
   "metadata": {},
   "outputs": [],
   "source": [
    "eval_seg.reload()\n",
    "from skimage.filters import unsharp_mask, threshold_triangle, difference_of_gaussians\n",
    "import scipy\n",
    "\n",
    "\n",
    "for i in d[1].gts:\n",
    "    dci=d[1].gts[i]\n",
    "    # print(str(dci))\n",
    "    newm=dci.component_gt#binary_smoothed = scipy.ndimage.median_filter(dci.component_gt, 5)\n",
    "    skel=eval_seg.geometry.skeletonize(newm, spacing=voxelsize) > 0\n",
    "    from skimage.morphology import skeletonize, binary_closing\n",
    "    # skel2=binary_closing(skel)\n",
    "\n",
    "    eval_seg.ui.multi_plot_3d({'gt':dci.component_gt,'newm':newm, 'skel':skel})\n",
    "\n"
   ]
  }
 ],
 "metadata": {
  "kernelspec": {
   "display_name": "Python [conda env:.py3.8.3] *",
   "language": "python",
   "name": "conda-env-.py3.8.3-py"
  },
  "language_info": {
   "codemirror_mode": {
    "name": "ipython",
    "version": 3
   },
   "file_extension": ".py",
   "mimetype": "text/x-python",
   "name": "python",
   "nbconvert_exporter": "python",
   "pygments_lexer": "ipython3",
   "version": "3.8.13"
  }
 },
 "nbformat": 4,
 "nbformat_minor": 5
}
