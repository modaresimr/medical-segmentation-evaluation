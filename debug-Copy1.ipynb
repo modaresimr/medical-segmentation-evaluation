{
 "cells": [
  {
   "cell_type": "markdown",
   "id": "73727336-6150-4b5f-b3bb-642139b7a25b",
   "metadata": {},
   "source": [
    "# debug precompute"
   ]
  },
  {
   "cell_type": "markdown",
   "id": "58cca94f-c61c-4114-b957-b6eec55f9260",
   "metadata": {},
   "source": [
    "## Load data"
   ]
  },
  {
   "cell_type": "code",
   "execution_count": 1,
   "id": "417b8f92-22ad-41b2-92a3-0181a86ba006",
   "metadata": {},
   "outputs": [
    {
     "data": {
      "application/vnd.jupyter.widget-view+json": {
       "model_id": "5409aa048b474608949cf7f927d28fe0",
       "version_major": 2,
       "version_minor": 0
      },
      "text/plain": [
       "interactive(children=(Dropdown(description='dataset', options=('Task001_LiverTumor', 'Task002_Pancreas', 'Task…"
      ]
     },
     "metadata": {},
     "output_type": "display_data"
    }
   ],
   "source": [
    "from ipywidgets import interact\n",
    "import os \n",
    "import nibabel as nib\n",
    "import plotui\n",
    "import numpy as np\n",
    "root='alg_out/'\n",
    "\n",
    "@interact\n",
    "def selectData(dataset=['Task001_LiverTumor','Task002_Pancreas','Task003_Multiorgan']):\n",
    "    @interact\n",
    "    def fileviewer(file=sorted(os.listdir(f'{root}/{dataset}/GroundTruth'))):\n",
    "        global gt,voxelsize\n",
    "        gt_nib = nib.load(f'{root}/{dataset}/GroundTruth/{file}')\n",
    "        gt=gt_nib.dataobj[...]\n",
    "        from nibabel.affines import voxel_sizes\n",
    "        voxelsize=voxel_sizes(gt_nib.affine)\n",
    "        @interact\n",
    "        def fileviewer2(typ=['CE','Dice','DiceCE','DiceFocal','DiceTopK10','TopK10']):\n",
    "                global pr\n",
    "                pr_nib = nib.load(f'{root}/{dataset}/{typ}/{file}')\n",
    "                if (voxelsize!=voxel_sizes(pr_nib.affine)).any():\n",
    "                    raise Error('voxel sizes are different')\n",
    "                pr=pr_nib.dataobj[...]\n",
    "                print(f'dataset {dataset} predict {typ} loaded....')\n",
    "                \n",
    "\n",
    "            "
   ]
  },
  {
   "cell_type": "code",
   "execution_count": 8,
   "id": "af7fdd3d-8590-4947-a1ff-42c17af5fe91",
   "metadata": {},
   "outputs": [],
   "source": [
    "import myutils\n",
    "gt2=myutils.array_trim(gt)"
   ]
  },
  {
   "cell_type": "code",
   "execution_count": 9,
   "id": "e3e5d3a8-2655-40ef-9b7e-a0d15a57a1a4",
   "metadata": {
    "tags": []
   },
   "outputs": [
    {
     "name": "stdout",
     "output_type": "stream",
     "text": [
      "0\n",
      "28.972s [1 * 28.972s]  class 0\n",
      "├── 8.49s [1 * 8.49s]  component0\n",
      "│   ├── 519.094ms [1 * 519.094ms]  boundary\n",
      "│   ├── 4.634s [1 * 4.634s]  distances\n",
      "│   └── 3.319s [1 * 3.319s]  skeleton\n",
      "└── 20.409s [1 * 20.409s]  component1\n",
      "    ├── 4.49s [1 * 4.49s]  distances\n",
      "    └── 15.454s [1 * 15.454s]  skeleton\n",
      "\n",
      "1\n",
      "1.958m [1 * 1.958m]  class 1\n",
      "├── 20.482s [1 * 20.482s]  component0\n",
      "│   ├── 4.601s [1 * 4.601s]  distances\n",
      "│   └── 15.419s [1 * 15.419s]  skeleton\n",
      "├── 7.06s [1 * 7.06s]  component1\n",
      "│   ├── 3.849s [1 * 3.849s]  distances\n",
      "│   └── 2.739s [1 * 2.739s]  skeleton\n",
      "├── 6.645s [1 * 6.645s]  component2\n",
      "│   ├── 3.586s [1 * 3.586s]  distances\n",
      "│   └── 2.604s [1 * 2.604s]  skeleton\n",
      "├── 5.696s [1 * 5.696s]  component3\n",
      "│   ├── 3.43s [1 * 3.43s]  distances\n",
      "│   └── 1.78s [1 * 1.78s]  skeleton\n",
      "├── 7.382s [1 * 7.382s]  component4\n",
      "│   ├── 3.82s [1 * 3.82s]  distances\n",
      "│   └── 3.106s [1 * 3.106s]  skeleton\n",
      "├── 6.17s [1 * 6.17s]  component5\n",
      "│   ├── 3.564s [1 * 3.564s]  distances\n",
      "│   └── 2.148s [1 * 2.148s]  skeleton\n",
      "├── 5.651s [1 * 5.651s]  component6\n",
      "│   ├── 3.414s [1 * 3.414s]  distances\n",
      "│   └── 1.774s [1 * 1.774s]  skeleton\n",
      "├── 5.11s [1 * 5.11s]  component7\n",
      "│   ├── 3.32s [1 * 3.32s]  distances\n",
      "│   └── 1.332s [1 * 1.332s]  skeleton\n",
      "├── 5.039s [1 * 5.039s]  component8\n",
      "│   ├── 3.331s [1 * 3.331s]  distances\n",
      "│   └── 1.221s [1 * 1.221s]  skeleton\n",
      "├── 5.796s [1 * 5.796s]  component9\n",
      "│   ├── 3.436s [1 * 3.436s]  distances\n",
      "│   └── 1.903s [1 * 1.903s]  skeleton\n",
      "├── 5.17s [1 * 5.17s]  component10\n",
      "│   ├── 3.411s [1 * 3.411s]  distances\n",
      "│   └── 1.282s [1 * 1.282s]  skeleton\n",
      "├── 4.96s [1 * 4.96s]  component11\n",
      "│   ├── 3.254s [1 * 3.254s]  distances\n",
      "│   └── 1.235s [1 * 1.235s]  skeleton\n",
      "├── 4.945s [1 * 4.945s]  component12\n",
      "│   ├── 3.267s [1 * 3.267s]  distances\n",
      "│   └── 1.211s [1 * 1.211s]  skeleton\n",
      "├── 5.061s [1 * 5.061s]  component13\n",
      "│   ├── 3.36s [1 * 3.36s]  distances\n",
      "│   └── 1.243s [1 * 1.243s]  skeleton\n",
      "├── 5.937s [1 * 5.937s]  component14\n",
      "│   ├── 3.416s [1 * 3.416s]  distances\n",
      "│   └── 2.063s [1 * 2.063s]  skeleton\n",
      "├── 4.88s [1 * 4.88s]  component15\n",
      "│   ├── 3.224s [1 * 3.224s]  distances\n",
      "│   └── 1.2s [1 * 1.2s]  skeleton\n",
      "├── 6.573s [1 * 6.573s]  component16\n",
      "│   ├── 3.617s [1 * 3.617s]  distances\n",
      "│   └── 2.477s [1 * 2.477s]  skeleton\n",
      "└── 4.839s [1 * 4.839s]  component17\n",
      "    ├── 3.161s [1 * 3.161s]  distances\n",
      "    └── 1.221s [1 * 1.221s]  skeleton\n",
      "\n"
     ]
    }
   ],
   "source": [
    "import importlib\n",
    "import metric\n",
    "importlib.reload(metric)\n",
    "\n",
    "mme=metric.MME(gt2.max()+1,debug={'show_precompute':0})\n",
    "helper=mme.precompute(gt2,spacing=voxelsize)"
   ]
  },
  {
   "cell_type": "code",
   "execution_count": 3,
   "id": "6af487e5-61fb-4af6-a019-4e12f422c7d8",
   "metadata": {},
   "outputs": [],
   "source": [
    "import matplotlib.pyplot as plt\n",
    "\n",
    "shape=gt[:,:,gt.sum(axis=0).sum(axis=0).argmax()].astype(np.uint8)\n",
    "shape=gt\n",
    "# shape=np.zeros((200,200),np.uint8)\n",
    "# shape[10:90,10:50]=1\n",
    "\n",
    "# shape[10:90,60:100]=1\n",
    "import cc3d\n",
    "marker=cc3d.connected_components(shape).astype(np.int8)\n",
    "# marker=scipy.ndimage.find_objects(shape.astype(np.int8),3)\n",
    "# plt.imshow(marker)\n"
   ]
  },
  {
   "cell_type": "code",
   "execution_count": 15,
   "id": "f937826f-caf9-43bd-b3f5-412185344fb6",
   "metadata": {},
   "outputs": [
    {
     "ename": "AttributeError",
     "evalue": "'numpy.ndarray' object has no attribute 'delete'",
     "output_type": "error",
     "traceback": [
      "\u001b[0;31m---------------------------------------------------------------------------\u001b[0m",
      "\u001b[0;31mAttributeError\u001b[0m                            Traceback (most recent call last)",
      "Input \u001b[0;32mIn [15]\u001b[0m, in \u001b[0;36m<cell line: 4>\u001b[0;34m()\u001b[0m\n\u001b[1;32m      1\u001b[0m a\u001b[38;5;241m=\u001b[39mnp\u001b[38;5;241m.\u001b[39mzeros(\u001b[38;5;241m5\u001b[39m)\n\u001b[1;32m      2\u001b[0m a[\u001b[38;5;241m1\u001b[39m]\u001b[38;5;241m=\u001b[39m\u001b[38;5;241m1\u001b[39m\n\u001b[0;32m----> 4\u001b[0m \u001b[43mnp\u001b[49m\u001b[38;5;241;43m.\u001b[39;49m\u001b[43munique\u001b[49m\u001b[43m(\u001b[49m\u001b[43ma\u001b[49m\u001b[43m)\u001b[49m\u001b[38;5;241;43m.\u001b[39;49m\u001b[43mdelete\u001b[49m(\u001b[38;5;241m0\u001b[39m)\n",
      "\u001b[0;31mAttributeError\u001b[0m: 'numpy.ndarray' object has no attribute 'delete'"
     ]
    }
   ],
   "source": [
    "a=np.zeros(5)\n",
    "a[1]=1\n",
    "\n",
    "np.unique(a).delete(0)"
   ]
  },
  {
   "cell_type": "code",
   "execution_count": 5,
   "id": "8d2f1edb-62f1-4a71-ab36-80db1c6bace5",
   "metadata": {},
   "outputs": [
    {
     "name": "stdout",
     "output_type": "stream",
     "text": [
      "2.608m [2 * 1.304m]  watershed\n",
      "\n"
     ]
    },
    {
     "data": {
      "text/plain": [
       "array([[[-9, -9, -9, ..., -9, -9, -9],\n",
       "        [-9, -9, -9, ..., -1, -1, -1],\n",
       "        [-1, -1, -1, ..., -1, -1, -1],\n",
       "        ...,\n",
       "        [-9, -9, -9, ..., -9, -9, -9],\n",
       "        [-9, -9, -9, ..., -9, -9, -9],\n",
       "        [-9, -9, -9, ..., -9, -9, -9]],\n",
       "\n",
       "       [[-9, -9, -9, ..., -9, -9, -9],\n",
       "        [-9, -9, -9, ..., -1, -1, -1],\n",
       "        [-1, -1, -1, ..., -1, -1, -1],\n",
       "        ...,\n",
       "        [-9, -9, -9, ..., -9, -9, -9],\n",
       "        [-9, -9, -9, ..., -9, -9, -9],\n",
       "        [-9, -9, -9, ..., -9, -9, -9]],\n",
       "\n",
       "       [[-9, -9, -9, ..., -9, -9, -9],\n",
       "        [-9, -9, -9, ..., -1, -1, -1],\n",
       "        [-1, -1, -1, ..., -1, -1, -1],\n",
       "        ...,\n",
       "        [-9, -9, -9, ..., -9, -9, -9],\n",
       "        [-9, -9, -9, ..., -9, -9, -9],\n",
       "        [-9, -9, -9, ..., -9, -9, -9]],\n",
       "\n",
       "       ...,\n",
       "\n",
       "       [[-5, -5, -5, ..., -5, -5, -5],\n",
       "        [-5, -5, -5, ..., -5, -5, -5],\n",
       "        [-5, -5, -5, ..., -5, -5, -5],\n",
       "        ...,\n",
       "        [-5, -5, -5, ..., -5, -5, -5],\n",
       "        [-5, -5, -5, ..., -5, -5, -5],\n",
       "        [-5, -5, -5, ..., -5, -5, -5]],\n",
       "\n",
       "       [[-5, -5, -5, ..., -5, -5, -5],\n",
       "        [-5, -5, -5, ..., -5, -5, -5],\n",
       "        [-5, -5, -5, ..., -5, -5, -5],\n",
       "        ...,\n",
       "        [-5, -5, -5, ..., -5, -5, -5],\n",
       "        [-5, -5, -5, ..., -5, -5, -5],\n",
       "        [-5, -5, -5, ..., -5, -5, -5]],\n",
       "\n",
       "       [[-5, -5, -5, ..., -5, -5, -5],\n",
       "        [-5, -5, -5, ..., -5, -5, -5],\n",
       "        [-5, -5, -5, ..., -5, -5, -5],\n",
       "        ...,\n",
       "        [-5, -5, -5, ..., -5, -5, -5],\n",
       "        [-5, -5, -5, ..., -5, -5, -5],\n",
       "        [-5, -5, -5, ..., -5, -5, -5]]], dtype=int8)"
      ]
     },
     "execution_count": 5,
     "metadata": {},
     "output_type": "execute_result"
    }
   ],
   "source": [
    "import scipy\n",
    "from auto_profiler import Timer\n",
    "# with Timer.instance('dis'):\n",
    "#     dst=scipy.ndimage.distance_transform_edt(shape>0)#+scipy.ndimage.distance_transform_edt(shape)\n",
    "ddd=np.ones(marker.shape,np.uint8)\n",
    "\n",
    "mark=-(marker)\n",
    "inp=dst\n",
    "with Timer.instance('watershed'):\n",
    "    res=scipy.ndimage.watershed_ift(inp.astype(np.uint8), mark.astype(np.int8), structure=None, output=None)\n",
    "res\n",
    "# plt.imshow(-dst)"
   ]
  },
  {
   "cell_type": "code",
   "execution_count": 7,
   "id": "93413cad-473f-4fb2-94b9-59df38eab9a6",
   "metadata": {},
   "outputs": [
    {
     "data": {
      "text/plain": [
       "-17"
      ]
     },
     "execution_count": 7,
     "metadata": {},
     "output_type": "execute_result"
    }
   ],
   "source": [
    "res.min()"
   ]
  },
  {
   "cell_type": "code",
   "execution_count": 4,
   "id": "0dc19b11-e2d4-41d6-a8a4-66119b5239f1",
   "metadata": {},
   "outputs": [
    {
     "data": {
      "text/plain": [
       "array([[0, 0, 0, ..., 0, 0, 0],\n",
       "       [0, 0, 0, ..., 0, 0, 0],\n",
       "       [0, 0, 0, ..., 0, 0, 0],\n",
       "       ...,\n",
       "       [0, 0, 0, ..., 0, 0, 0],\n",
       "       [0, 0, 0, ..., 0, 0, 0],\n",
       "       [0, 0, 0, ..., 0, 0, 0]], dtype=int8)"
      ]
     },
     "execution_count": 4,
     "metadata": {},
     "output_type": "execute_result"
    }
   ],
   "source": [
    "mark\n"
   ]
  },
  {
   "cell_type": "code",
   "execution_count": 119,
   "id": "0d53a9db-ce74-430f-baf3-c31f40d63c61",
   "metadata": {},
   "outputs": [
    {
     "data": {
      "text/plain": [
       "2"
      ]
     },
     "execution_count": 119,
     "metadata": {},
     "output_type": "execute_result"
    }
   ],
   "source": [
    "marker.max()"
   ]
  }
 ],
 "metadata": {
  "kernelspec": {
   "display_name": "Python 3 (ipykernel)",
   "language": "python",
   "name": "python3"
  },
  "language_info": {
   "codemirror_mode": {
    "name": "ipython",
    "version": 3
   },
   "file_extension": ".py",
   "mimetype": "text/x-python",
   "name": "python",
   "nbconvert_exporter": "python",
   "pygments_lexer": "ipython3",
   "version": "3.8.13"
  }
 },
 "nbformat": 4,
 "nbformat_minor": 5
}
