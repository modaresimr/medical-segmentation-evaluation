{
 "cells": [
  {
   "cell_type": "code",
   "execution_count": 3,
   "id": "dacd4908-fd34-4bf6-a84d-0d8e857e089c",
   "metadata": {
    "tags": []
   },
   "outputs": [
    {
     "name": "stdout",
     "output_type": "stream",
     "text": [
      "train_201.nii.gz\n",
      "alg_out/Task001_LiverTumor/GroundTruth/train_201.nii.gz\n",
      "45\n",
      "GroundTruth\n"
     ]
    },
    {
     "ename": "UnboundLocalError",
     "evalue": "local variable 'fp' referenced before assignment",
     "output_type": "error",
     "traceback": [
      "\u001b[0;31m---------------------------------------------------------------------------\u001b[0m",
      "\u001b[0;31mUnboundLocalError\u001b[0m                         Traceback (most recent call last)",
      "Input \u001b[0;32mIn [3]\u001b[0m, in \u001b[0;36m<cell line: 44>\u001b[0;34m()\u001b[0m\n\u001b[1;32m     80\u001b[0m os\u001b[38;5;241m.\u001b[39mmakedirs(resf, exist_ok\u001b[38;5;241m=\u001b[39m\u001b[38;5;28;01mTrue\u001b[39;00m)\n\u001b[1;32m     82\u001b[0m pred \u001b[38;5;241m=\u001b[39m nib\u001b[38;5;241m.\u001b[39mload(\u001b[38;5;124mf\u001b[39m\u001b[38;5;124m'\u001b[39m\u001b[38;5;132;01m{\u001b[39;00mroot\u001b[38;5;132;01m}\u001b[39;00m\u001b[38;5;124m/\u001b[39m\u001b[38;5;132;01m{\u001b[39;00mtask\u001b[38;5;132;01m}\u001b[39;00m\u001b[38;5;124m/\u001b[39m\u001b[38;5;132;01m{\u001b[39;00malg\u001b[38;5;132;01m}\u001b[39;00m\u001b[38;5;124m/\u001b[39m\u001b[38;5;132;01m{\u001b[39;00mf\u001b[38;5;132;01m}\u001b[39;00m\u001b[38;5;124m'\u001b[39m)\u001b[38;5;241m.\u001b[39mget_fdata()\n\u001b[0;32m---> 83\u001b[0m \u001b[43mplotui\u001b[49m\u001b[38;5;241;43m.\u001b[39;49m\u001b[43mmulti_plot\u001b[49m\u001b[43m(\u001b[49m\u001b[43mgt\u001b[49m\u001b[43m,\u001b[49m\u001b[43m \u001b[49m\u001b[43m{\u001b[49m\u001b[43malg\u001b[49m\u001b[43m:\u001b[49m\u001b[43mpred\u001b[49m\u001b[43m}\u001b[49m\u001b[43m,\u001b[49m\u001b[43m \u001b[49m\u001b[43mdst\u001b[49m\u001b[38;5;241;43m=\u001b[39;49m\u001b[38;5;124;43mf\u001b[39;49m\u001b[38;5;124;43m'\u001b[39;49m\u001b[38;5;132;43;01m{\u001b[39;49;00m\u001b[43mresf\u001b[49m\u001b[38;5;132;43;01m}\u001b[39;49;00m\u001b[38;5;124;43m/\u001b[39;49m\u001b[38;5;132;43;01m{\u001b[39;49;00m\u001b[43mf\u001b[49m\u001b[38;5;132;43;01m}\u001b[39;49;00m\u001b[38;5;124;43m.html\u001b[39;49m\u001b[38;5;124;43m'\u001b[39;49m\u001b[43m)\u001b[49m\n\u001b[1;32m     84\u001b[0m \u001b[38;5;66;03m# plotui.plot_3d(gt, pred, dst=f'{resf}/{f}.html')\u001b[39;00m\n\u001b[1;32m     85\u001b[0m imp_pred \u001b[38;5;241m=\u001b[39m [\n\u001b[1;32m     86\u001b[0m     i \u001b[38;5;28;01mfor\u001b[39;00m i \u001b[38;5;129;01min\u001b[39;00m \u001b[38;5;28mrange\u001b[39m(pred\u001b[38;5;241m.\u001b[39mshape[\u001b[38;5;241m2\u001b[39m]) \u001b[38;5;28;01mif\u001b[39;00m pred[:, :, i]\u001b[38;5;241m.\u001b[39msum() \u001b[38;5;241m!=\u001b[39m \u001b[38;5;241m0\u001b[39m\n\u001b[1;32m     87\u001b[0m ]\n",
      "File \u001b[0;32m~/environments/semanticsegment/eval-seg/plotui.py:226\u001b[0m, in \u001b[0;36mmulti_plot\u001b[0;34m(gt, preds, dst)\u001b[0m\n\u001b[1;32m    223\u001b[0m pred \u001b[38;5;241m=\u001b[39m preds[p]\u001b[38;5;241m.\u001b[39mastype(np\u001b[38;5;241m.\u001b[39muint8)\n\u001b[1;32m    224\u001b[0m \u001b[38;5;66;03m#         fp = (gt != pred) & (pred>0)\u001b[39;00m\n\u001b[1;32m    225\u001b[0m \u001b[38;5;66;03m#         fn = (gt != pred) & (gt>0)\u001b[39;00m\n\u001b[0;32m--> 226\u001b[0m v\u001b[38;5;241m=\u001b[39mk3d\u001b[38;5;241m.\u001b[39mvoxels(\u001b[43mfp\u001b[49m\u001b[38;5;241m.\u001b[39mastype(np\u001b[38;5;241m.\u001b[39muint8), opacity\u001b[38;5;241m=\u001b[39m\u001b[38;5;241m0.6\u001b[39m, color\u001b[38;5;241m=\u001b[39m\u001b[38;5;124m'\u001b[39m\u001b[38;5;124m0xff0000\u001b[39m\u001b[38;5;124m'\u001b[39m, compression_level\u001b[38;5;241m=\u001b[39m\u001b[38;5;241m9\u001b[39m, name\u001b[38;5;241m=\u001b[39m\u001b[38;5;124m'\u001b[39m\u001b[38;5;124mfp\u001b[39m\u001b[38;5;124m'\u001b[39m, group\u001b[38;5;241m=\u001b[39mp)\n\u001b[1;32m    227\u001b[0m v\u001b[38;5;241m.\u001b[39mvisible\u001b[38;5;241m=\u001b[39m\u001b[38;5;28;01mFalse\u001b[39;00m\n\u001b[1;32m    228\u001b[0m plot \u001b[38;5;241m+\u001b[39m\u001b[38;5;241m=\u001b[39m v\n",
      "\u001b[0;31mUnboundLocalError\u001b[0m: local variable 'fp' referenced before assignment"
     ]
    }
   ],
   "source": [
    "import os\n",
    "import numpy as np\n",
    "import matplotlib.pyplot as plt\n",
    "import nibabel as nib\n",
    "import compress_pickle\n",
    "import json\n",
    "import myutils\n",
    "i = 101\n",
    "# task = 2\n",
    "root = 'alg_out'\n",
    "tasks = os.listdir(root)\n",
    "results_dir = 'results'\n",
    "precompute_dir = 'precompute'\n",
    "\n",
    "import shutil\n",
    "import metric\n",
    "\n",
    "metrics = {\n",
    "    'Pixel': metric.PixelBasedCM(2),\n",
    "    'Other': metric.Other(2),\n",
    "    'MME': metric.MME(2)\n",
    "}\n",
    "\n",
    "\n",
    "def precompute(gt):\n",
    "    prec={}\n",
    "    for m in metrics:\n",
    "        prec[m]=metrics[m].precompute(gt)\n",
    "    return prec\n",
    "\n",
    "\n",
    "\n",
    "def calc_metrics(metrics, gt, pred, helper):\n",
    "    metric_res = {}\n",
    "    for m in metrics:\n",
    "        metric_res[m] = metrics[m].evaluate(gt, pred, helper[m])\n",
    "    return metric_res\n",
    "\n",
    "\n",
    "\n",
    "\n",
    "\n",
    "tasks=['Task001_LiverTumor']\n",
    "for task in tasks:\n",
    "    # if 1:\n",
    "    #     shutil.rmtree(f'{precompute_dir}/{task}', ignore_errors=True)\n",
    "    if 1:\n",
    "        shutil.rmtree(f'{results_dir}/{task}', ignore_errors=True)\n",
    "\n",
    "    os.makedirs(f'{precompute_dir}/{task}', exist_ok=True)\n",
    "    os.makedirs(f'{results_dir}/{task}', exist_ok=True)\n",
    "\n",
    "    files = {}\n",
    "    for f in os.listdir(f'{root}/{task}/GroundTruth/'):\n",
    "        print(f)\n",
    "        gtf = f'{root}/{task}/GroundTruth/{f}'\n",
    "        print(gtf)\n",
    "        gt = nib.load(gtf).get_fdata()\n",
    "\n",
    "        imp_gt = [i for i in range(gt.shape[2]) if gt[:, :, i].sum() != 0]\n",
    "        print(gt.shape[2])\n",
    "        import plotui\n",
    "        import json\n",
    "        # ImageSliceViewer3D(gt[:,:,imp_gt])\n",
    "        # allpred={alg:nib.load(f'{root}/{task}/{alg}/{f}').get_fdata() for alg in os.listdir(f'{root}/{task}') if alg!='GroundTruth'}\n",
    "        # print('load all predictions finished')\n",
    "        # plotui.multi_plot(gt, allpred, dst=f'{results_dir}/{task}/{f}.html')\n",
    "        # continue\n",
    "        pcf = f'{precompute_dir}/{task}/{f}.pkl.lz4'\n",
    "        if not os.path.isfile(pcf):\n",
    "            compress_pickle.dump(precompute(gt), pcf)\n",
    "        helper = compress_pickle.load(pcf)\n",
    "\n",
    "        \n",
    "        for alg in os.listdir(f'{root}/{task}'):\n",
    "            print(alg)\n",
    "            resf = f'{results_dir}/{task}/{alg}/'\n",
    "            if os.path.isfile(f'{resf}/{f}.pkl.lz4'): continue\n",
    "\n",
    "            os.makedirs(resf, exist_ok=True)\n",
    "\n",
    "            pred = nib.load(f'{root}/{task}/{alg}/{f}').get_fdata()\n",
    "            plotui.multi_plot(gt, {alg:pred}, dst=f'{resf}/{f}.html')\n",
    "            # plotui.plot_3d(gt, pred, dst=f'{resf}/{f}.html')\n",
    "            imp_pred = [\n",
    "                i for i in range(pred.shape[2]) if pred[:, :, i].sum() != 0\n",
    "            ]\n",
    "            # ImageSliceViewer3D(pred[:,:,imp_pred])\n",
    "            metrics['MME'].debug={'v':f'{resf}/debug-{f}.html'}\n",
    "            res = calc_metrics(metrics, gt, pred, helper)\n",
    "            print(f, alg, res)\n",
    "            compress_pickle.dump(res, f'{resf}/{f}.pkl.lz4')\n",
    "            with open(f'{resf}/{f}.json', 'w') as jsonf:\n",
    "                json.dump(res, jsonf, indent=2, cls=myutils.NumpyEncoder)\n",
    "\n",
    "# gt = nib.load(os.path.listdir(f'resout/{folder[task]}/GroundTruth/')[i]'.nii.gz')\n",
    "# ce = nib.load(f'resout/{folder[task]}/CE/train_{i}.nii.gz')\n",
    "\n",
    "# all=[gt.get_fdata(),ce.get_fdata(),gt.get_fdata()-ce.get_fdata()]"
   ]
  },
  {
   "cell_type": "code",
   "execution_count": 2,
   "id": "7fcb99af-5a60-4cbb-9734-635ef67796d6",
   "metadata": {},
   "outputs": [
    {
     "name": "stdout",
     "output_type": "stream",
     "text": [
      "Collecting medpy\n",
      "  Using cached MedPy-0.4.0-py3-none-any.whl\n",
      "Requirement already satisfied: scipy>=1.1.0 in /raid/home/labusermodaresi/environments/.py3.8.3/lib/python3.8/site-packages (from medpy) (1.9.0)\n",
      "Requirement already satisfied: numpy>=1.11.0 in /raid/home/labusermodaresi/environments/.py3.8.3/lib/python3.8/site-packages (from medpy) (1.23.2)\n",
      "Collecting SimpleITK>=1.1.0\n",
      "  Downloading SimpleITK-2.2.0-cp38-cp38-manylinux_2_17_x86_64.manylinux2014_x86_64.whl (52.8 MB)\n",
      "\u001b[2K     \u001b[38;2;114;156;31m━━━━━━━━━━━━━━━━━━━━━━━━━━━━━━━━━━━━━━━━\u001b[0m \u001b[32m52.8/52.8 MB\u001b[0m \u001b[31m3.6 MB/s\u001b[0m eta \u001b[36m0:00:00\u001b[0mm eta \u001b[36m0:00:01\u001b[0m[36m0:00:01\u001b[0m\n",
      "\u001b[?25hInstalling collected packages: SimpleITK, medpy\n",
      "Successfully installed SimpleITK-2.2.0 medpy-0.4.0\n",
      "Note: you may need to restart the kernel to use updated packages.\n"
     ]
    }
   ],
   "source": [
    "pip install medpy\n"
   ]
  }
 ],
 "metadata": {
  "kernelspec": {
   "display_name": "Python 3 (ipykernel)",
   "language": "python",
   "name": "python3"
  },
  "language_info": {
   "codemirror_mode": {
    "name": "ipython",
    "version": 3
   },
   "file_extension": ".py",
   "mimetype": "text/x-python",
   "name": "python",
   "nbconvert_exporter": "python",
   "pygments_lexer": "ipython3",
   "version": "3.8.13"
  },
  "vscode": {
   "interpreter": {
    "hash": "e90503ecedfe11d553757f50fbee0388d6b293f936dcdf841c9ba99553ba079f"
   }
  }
 },
 "nbformat": 4,
 "nbformat_minor": 5
}
