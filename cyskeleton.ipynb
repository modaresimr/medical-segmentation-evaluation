{
 "cells": [
  {
   "cell_type": "code",
   "execution_count": 5,
   "id": "e8bdbf99-63db-4a76-bda7-82bdfab0ac76",
   "metadata": {},
   "outputs": [],
   "source": [
    "# --------- Skeletonization by medial axis transform --------\n",
    "from scipy import ndimage as ndi\n",
    "\n",
    "# def medial_axis_3d(image, mask=None, return_distance=False, *, random_state=None, spacing=None):\n",
    "#     global _eight_connect\n",
    "#     if mask is None:\n",
    "#         masked_image = image.astype(bool)\n",
    "#     else:\n",
    "#         masked_image = image.astype(bool).copy()\n",
    "#         masked_image[~mask] = False\n",
    "#     #\n",
    "#     # Build lookup table - three conditions\n",
    "#     # 1. Keep only positive pixels (center_is_foreground array).\n",
    "#     # AND\n",
    "#     # 2. Keep if removing the pixel results in a different connectivity\n",
    "#     # (if the number of connected components is different with and\n",
    "#     # without the central pixel)\n",
    "#     # OR\n",
    "#     # 3. Keep if # pixels in neighborhood is 2 or less\n",
    "#     # Note that table is independent of image\n",
    "    \n",
    "#     # Build distance transform\n",
    "#     distance = ndi.distance_transform_edt(masked_image,sampling=spacing)\n",
    "\n",
    "#     if return_distance:\n",
    "#         store_distance = distance.copy()\n",
    "\n",
    "#     # Corners\n",
    "#     # The processing order along the edge is critical to the shape of the\n",
    "#     # resulting skeleton: if you process a corner first, that corner will\n",
    "#     # be eroded and the skeleton will miss the arm from that corner. Pixels\n",
    "#     # with fewer neighbors are more \"cornery\" and should be processed last.\n",
    "#     # We use a cornerness_table lookup table where the score of a\n",
    "#     # configuration is the number of background (0-value) pixels in the\n",
    "#     # 3x3 neighborhood\n",
    "#     #cornerness_table = np.array([9 - np.sum(_pattern_of(index))\n",
    "#                                  # for index in range(512)])\n",
    "#     # print('cornerness_table',cornerness_table)\n",
    "#     # corner_score = _table_lookup(masked_image, cornerness_table)\n",
    "#     corner_score=corner_score_3d(masked_image)\n",
    "#     # print('corner_score',corner_score)\n",
    "#     # Define arrays for inner loop\n",
    "#     i, j, z = np.mgrid[0:image.shape[0], 0:image.shape[1],0:image.shape[2]]\n",
    "#     # i, j = np.mgrid[0:image.shape[0], 0:image.shape[1]]\n",
    "#     result = masked_image.copy()\n",
    "#     distance = distance[result]\n",
    "#     i = np.ascontiguousarray(i[result], dtype=np.intp)\n",
    "#     j = np.ascontiguousarray(j[result], dtype=np.intp)\n",
    "#     z = np.ascontiguousarray(z[result], dtype=np.intp)\n",
    "#     result = np.ascontiguousarray(result, np.uint8)\n",
    "\n",
    "#     # Determine the order in which pixels are processed.\n",
    "#     # We use a random # for tiebreaking. Assign each pixel in the image a\n",
    "#     # predictable, random # so that masking doesn't affect arbitrary choices\n",
    "#     # of skeletons\n",
    "#     #\n",
    "#     generator = np.random.default_rng(random_state)\n",
    "#     tiebreaker = generator.permutation(np.arange(masked_image.sum()))\n",
    "#     order = np.lexsort((tiebreaker,\n",
    "#                         i,j,z,\n",
    "#                         corner_score[masked_image],\n",
    "#                         distance))\n",
    "#     order = np.ascontiguousarray(order, dtype=np.int32)\n",
    "    \n",
    "    \n",
    "#     # Remove pixels not belonging to the medial axis\n",
    "#     import skimage.morphology._skeletonize_3d_cy as cy\n",
    "\n",
    "#     result=cy._skeletonize_loop_3d(result, i, j, z, order,np.array(spacing),False)\n",
    "\n",
    "#     result = result.astype(bool)\n",
    "#     if mask is not None:\n",
    "#         result[~mask] = image[~mask]\n",
    "#     if return_distance:\n",
    "#         return result, store_distance\n",
    "#     else:\n",
    "#         return result\n",
    "\n",
    "\n",
    "def medial_axis_3d(image, mask=None, return_distance=False, *, random_state=None, spacing=None,changes=1000):\n",
    "    global _eight_connect\n",
    "    if mask is None:\n",
    "        masked_image = image.astype(bool)\n",
    "    else:\n",
    "        masked_image = image.astype(bool).copy()\n",
    "        masked_image[~mask] = False\n",
    "    result = masked_image.copy()\n",
    "    result = np.ascontiguousarray(result, np.uint8)\n",
    "    \n",
    "    \n",
    "    # Remove pixels not belonging to the medial axis\n",
    "    import skimage.morphology._skeletonize_3d_cy as cy\n",
    "    \n",
    "    result=cy._skeletonize_loop_3d(result, changes,np.array(spacing),False)\n",
    "\n",
    "    result = result.astype(bool)\n",
    "    if mask is not None:\n",
    "        result[~mask] = image[~mask]\n",
    "    if return_distance:\n",
    "        return result, store_distance\n",
    "    else:\n",
    "        return result\n",
    "\n",
    "def corner_score_3d(img):\n",
    "    import itertools\n",
    "    corner=np.zeros(img.shape,int)\n",
    "    img=img.astype(bool)\n",
    "    rows,cols,zs=img.shape\n",
    "    for ii,jj,zz in itertools.product(range(rows),range(cols),range(zs)):\n",
    "        # print(f'ii={ii} jj={jj} zz={zz}')\n",
    "        for iii,jjj,zzz in itertools.product(range(-1,2),range(-1,2),range(-1,2)):\n",
    "            ax=ii+iii\n",
    "            ay=jj+jjj\n",
    "            az=zz+zzz\n",
    "            if ax<0 or ay<0 or az<0:\n",
    "                corner[ii,jj,zz]+=1\n",
    "                continue\n",
    "            if ax>=rows or ay>=cols or az>=zs:\n",
    "                corner[ii,jj,zz]+=1\n",
    "                continue\n",
    "            # if zzz==0 and zz==1:\n",
    "            #     print(f'ii={ii} jj={jj} zz={zz}      {iii},\\t{jjj},\\t{zzz}\\t {img[ax,ay,az]}')\n",
    "            if not img[ax,ay,az]:\n",
    "                corner[ii,jj,zz]+=1\n",
    "            # else:\n",
    "            #     print(ii,jj,zz)\n",
    "             \n",
    "    return corner\n"
   ]
  },
  {
   "cell_type": "code",
   "execution_count": 2,
   "id": "85b9f27f-3dbe-494d-99da-9eb40a96e9ac",
   "metadata": {},
   "outputs": [],
   "source": [
    "# masked_image=img2_3d.astype(bool)\n",
    "# image=masked_image\n",
    "# spacing=[1,2,1]\n",
    "# distance = ndi.distance_transform_edt(masked_image,sampling=spacing)\n",
    "# dst = ndi.distance_transform_edt(masked_image,sampling=spacing)\n",
    "\n",
    "# corner_score=corner_score_3d(masked_image)\n",
    "# i, j, z = np.mgrid[0:image.shape[0], 0:image.shape[1],0:image.shape[2]]\n",
    "# result = masked_image.copy()\n",
    "# distance = distance[result]\n",
    "# i = np.ascontiguousarray(i[result], dtype=np.intp)\n",
    "# j = np.ascontiguousarray(j[result], dtype=np.intp)\n",
    "# z = np.ascontiguousarray(z[result], dtype=np.intp)\n",
    "\n",
    "# # Determine the order in which pixels are processed.\n",
    "# # We use a random # for tiebreaking. Assign each pixel in the image a\n",
    "# # predictable, random # so that masking doesn't affect arbitrary choices\n",
    "# # of skeletons\n",
    "# #\n",
    "# generator = np.random.default_rng(1)\n",
    "# tiebreaker = generator.permutation(np.arange(masked_image.sum()))\n",
    "# order = np.lexsort((tiebreaker,\n",
    "#                     i,j,z,\n",
    "#                     corner_score[masked_image],\n",
    "#                     distance))\n",
    "\n",
    "# newi=np.zeros(image.shape)\n",
    "# for v,oi in enumerate(order):\n",
    "#     ii=i[oi]\n",
    "#     jj=j[oi]\n",
    "#     zz=z[oi]\n",
    "#     newi[(ii,jj,zz)]=v+1\n",
    "    \n",
    "# # display_skel(newi/newi.max()*25,newi*0,spacing)\n",
    "# plt.imshow(newi[...,0],vmin=0,vmax=6)\n",
    "# plt.show()\n",
    "# plt.imshow(dst[...,0],vmin=0,vmax=dst.max()/4*3)\n"
   ]
  },
  {
   "cell_type": "code",
   "execution_count": null,
   "id": "c7266470-24c0-4347-8a4e-4104fb15bfcd",
   "metadata": {},
   "outputs": [],
   "source": []
  },
  {
   "cell_type": "code",
   "execution_count": 3,
   "id": "fde8af51-c533-4496-ab83-367863dce4b8",
   "metadata": {},
   "outputs": [],
   "source": [
    "import numpy as np\n",
    "import matplotlib.pyplot as plt\n",
    "from skimage import draw\n",
    "# from skimage.morphology import skeletonize\n",
    "siz=200\n",
    "img1 = np.zeros((siz,siz))\n",
    "rr, cc = draw.ellipse(siz/2, siz/2, siz*.4, siz*.4, img1.shape)\n",
    "img1[rr, cc] = 1\n",
    "scale1=(1,1)\n",
    "\n",
    "img2 = np.zeros((siz, siz//2))\n",
    "rr, cc = draw.ellipse(siz/2, siz/4, siz*.4, siz*.2, img2.shape)\n",
    "img2[rr, cc] = 1\n",
    "scale2=(1,2)\n",
    "\n",
    "def display_skel(img,skeleton,spacing):\n",
    "      \n",
    "    if img.ndim==2:\n",
    "        b=skeleton+img\n",
    "        # b=myutils.array_trim(b,margin=4)\n",
    "        plt.imshow(b,aspect=spacing[0]/spacing[1])\n",
    "        plt.show()\n",
    "    else:\n",
    "        import k3d        \n",
    "        plot = k3d.plot()\n",
    "        plot+= k3d.voxels(img, opacity=0.1,scaling=spacing)\n",
    "        plot+= k3d.voxels(skeleton, opacity=1,scaling=spacing)\n",
    "        plot.display()\n",
    "def img_to_3d(img,zcount=10,margin=1):\n",
    "    newi=np.zeros((img.shape[0],img.shape[1],zcount+margin*2))\n",
    "    for i in range(margin,zcount+margin):\n",
    "        newi[...,i]=img\n",
    "    return newi"
   ]
  },
  {
   "cell_type": "code",
   "execution_count": 50,
   "id": "037ef45c-ad86-4b72-ba36-ccc6805cec35",
   "metadata": {
    "tags": []
   },
   "outputs": [
    {
     "name": "stdout",
     "output_type": "stream",
     "text": [
      "[200, 100, 22, 0, 0, 0, 0, 0]\n",
      "[6, 6, 6, 6, 2, 2] [5, 5, 5, 5, 1, 1] [6, 6, 6, 6, 2, 2]\n"
     ]
    },
    {
     "data": {
      "text/plain": [
       "<matplotlib.image.AxesImage at 0x7f90fbe86b20>"
      ]
     },
     "execution_count": 50,
     "metadata": {},
     "output_type": "execute_result"
    },
    {
     "data": {
      "image/png": "[encoded data removed]",
      "text/plain": [
       "<Figure size 432x288 with 1 Axes>"
      ]
     },
     "metadata": {
      "needs_background": "light"
     },
     "output_type": "display_data"
    }
   ],
   "source": [
    "numz=20\n",
    "img2_3d=img_to_3d(img2,numz,1)\n",
    "img1_3d=img_to_3d(img1,numz,1)\n",
    "# img2_3d=img2.reshape(img2.shape[0],img2.shape[1],1)\n",
    "scale2_3d=[1,2,1]\n",
    "scale1_3d=[1,1,1]\n",
    "# x,y,z\n",
    "# x,z\n",
    "# skel=medial_axis_3d(img1_3d,spacing=scale1_3d)\n",
    "# skel=medial_axis_3d(img1_3d,spacing=scale1_3d)\n",
    "\n",
    "# display_skel(img1_3d,skel,scale1_3d[::-1])\n",
    "# # import skimage\n",
    "# skel=skimage.morphology.skeletonize(img1_3d)\n",
    "# display_skel(img1_3d,skel>0,scale1_3d[::-1])\n",
    "\n",
    "# skel=medial_axis_3d(img2_3d,spacing=scale2_3d).astype(int)\n",
    "skel=medial_axis_3d(img2,spacing=[1,1,5],changes=6).astype(int)\n",
    "plt.imshow((img2_3d+skel)[...,11],aspect=.5)\n",
    "# display_skel(img2_3d,skel,scale2_3d[::-1])\n",
    "# skel=medial_axis_3d(img2_3d,spacing=[1,1,1]).astype(int)\n",
    "# display_skel(img2_3d,skel,scale2_3d[::-1])\n",
    "# import skimage\n",
    "# skel=skimage.morphology.skeletonize(img2_3d)\n",
    "# display_skel(img2_3d,skel>0,scale2_3d[::-1])"
   ]
  },
  {
   "cell_type": "code",
   "execution_count": 107,
   "id": "4364f393-704e-4fc0-893e-ff08a61c36b2",
   "metadata": {},
   "outputs": [
    {
     "data": {
      "text/plain": [
       "(1, 2)"
      ]
     },
     "execution_count": 107,
     "metadata": {},
     "output_type": "execute_result"
    },
    {
     "data": {
      "image/png": "[encoded data removed]",
      "text/plain": [
       "<Figure size 432x288 with 1 Axes>"
      ]
     },
     "metadata": {
      "needs_background": "light"
     },
     "output_type": "display_data"
    }
   ],
   "source": [
    "import skimage\n",
    "scale2_3d=[.9,0.9,0.9]\n",
    "img2s=skimage.transform.rescale(img2_3d,scale2_3d,mode='edge')>0\n",
    "skel2=skimage.morphology.skeletonize_3d(img2s)>0\n",
    "skel=skimage.transform.rescale(skel2,1/np.array(scale2_3d),mode='edge')>0\n",
    "plt.imshow((img2_3d+skel*1)[...,10])\n",
    "scale2\n"
   ]
  },
  {
   "cell_type": "code",
   "execution_count": 105,
   "id": "a0f92a30-f09b-43ee-ac3a-152bbe4c82ac",
   "metadata": {},
   "outputs": [
    {
     "data": {
      "text/plain": [
       "1"
      ]
     },
     "execution_count": 105,
     "metadata": {},
     "output_type": "execute_result"
    }
   ],
   "source": [
    "skel2.sum()"
   ]
  },
  {
   "cell_type": "code",
   "execution_count": null,
   "id": "1f41b3af-a267-462d-b525-255c40e27b6b",
   "metadata": {},
   "outputs": [],
   "source": []
  },
  {
   "cell_type": "code",
   "execution_count": null,
   "id": "0dcf2811-f830-4056-be0d-97e3e21af5d3",
   "metadata": {},
   "outputs": [],
   "source": [
    "spacing=[.7,1.5,5]\n",
    "step_allowed=[0]*7\n",
    "for i in range(3):\n",
    "    step_allowed[i*2+1]=max(spacing)/spacing[i]\n",
    "    step_allowed[i*2+2]=max(spacing)/spacing[i]\n",
    "\n",
    "max_allowd=step_allowed.copy()\n",
    "print(max_allowd)\n",
    "info=[0]*7\n",
    "\n",
    "for _ in range(100):\n",
    " \n",
    "    if all([info[curr_border]>=max_allowd[curr_border] for curr_border in  range(1,7)]):\n",
    "        for curr_border in  range(1,7):\n",
    "            max_allowd[curr_border]+=step_allowed[curr_border]\n",
    "    for curr_border in  range(1,7):\n",
    "    # mx=info.min()\n",
    "        if info[curr_border] >=max_allowd[curr_border]:\n",
    "            continue\n",
    "        info[curr_border]+=1\n",
    "        print(curr_border,end=' ')\n",
    "    # print(info,np.all(info>max_allowd))\n",
    "    # if not border_step_change:\n",
    "    \n",
    "        # print(max_allowd)\n",
    "\n",
    "info,np.array(info)/min(info[1:])"
   ]
  },
  {
   "cell_type": "code",
   "execution_count": null,
   "id": "3b3874d3-2fa3-49f8-8a33-6c1a53d6bb1b",
   "metadata": {},
   "outputs": [],
   "source": []
  }
 ],
 "metadata": {
  "kernelspec": {
   "display_name": "Python [conda env:.py3.8.3] *",
   "language": "python",
   "name": "conda-env-.py3.8.3-py"
  },
  "language_info": {
   "codemirror_mode": {
    "name": "ipython",
    "version": 3
   },
   "file_extension": ".py",
   "mimetype": "text/x-python",
   "name": "python",
   "nbconvert_exporter": "python",
   "pygments_lexer": "ipython3",
   "version": "3.8.13"
  }
 },
 "nbformat": 4,
 "nbformat_minor": 5
}
