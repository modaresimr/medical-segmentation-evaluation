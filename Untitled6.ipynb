{
 "cells": [
  {
   "cell_type": "code",
   "execution_count": 1,
   "id": "b8fb0c41-ca88-4d71-a864-620aa6d380ed",
   "metadata": {},
   "outputs": [
    {
     "ename": "NameError",
     "evalue": "name '__file__' is not defined",
     "output_type": "error",
     "traceback": [
      "\u001b[0;31m---------------------------------------------------------------------------\u001b[0m",
      "\u001b[0;31mNameError\u001b[0m                                 Traceback (most recent call last)",
      "Input \u001b[0;32mIn [1]\u001b[0m, in \u001b[0;36m<cell line: 3>\u001b[0;34m()\u001b[0m\n\u001b[1;32m      1\u001b[0m \u001b[38;5;28;01mimport\u001b[39;00m \u001b[38;5;21;01mhashlib\u001b[39;00m\n\u001b[1;32m      2\u001b[0m \u001b[38;5;28;01mimport\u001b[39;00m \u001b[38;5;21;01mlogging\u001b[39;00m\n\u001b[0;32m----> 3\u001b[0m logger \u001b[38;5;241m=\u001b[39m logging\u001b[38;5;241m.\u001b[39mgetLogger(\u001b[38;5;18;43m__file__\u001b[39;49m)\n\u001b[1;32m      4\u001b[0m GlobalDisable\u001b[38;5;241m=\u001b[39m\u001b[38;5;28;01mTrue\u001b[39;00m\n\u001b[1;32m      5\u001b[0m \u001b[38;5;28;01mdef\u001b[39;00m \u001b[38;5;21mhashkey\u001b[39m(key):\n",
      "\u001b[0;31mNameError\u001b[0m: name '__file__' is not defined"
     ]
    }
   ],
   "source": [
    "import hashlib\n",
    "import logging\n",
    "logger = logging.getLogger(__file__)\n",
    "GlobalDisable=True\n",
    "def hashkey(key):\n",
    "   hash_object = hashlib.sha1(key.encode('utf-8'))\n",
    "   return  hash_object.hexdigest()\n",
    "\n",
    "\n",
    "cachefolder=\"cache\"\n",
    "import general.utils as utils\n",
    "import os.path\n",
    "def get(key,valf):\n",
    "   hkey=hashkey(key)\n",
    "   try:\n",
    "      val=utils.loadState(cachefolder,hkey)\n",
    "      logger.debug(f'cached file found {key} {hkey}')\n",
    "   except Exception as e:\n",
    "      \n",
    "      if not(os.path.exists(f'save_data/{hkey}')):\n",
    "        logger.debug(f'cached file not found {key} {hkey}')\n",
    "      else:\n",
    "          logger.error(f'error in cached {e}',exc_info=True)\n",
    "      \n",
    "      val=valf()\n",
    "      utils.saveState(val,cachefolder,hkey)\n",
    "      with open(f'save_data/{cachefolder}/{hkey}.txt', 'w') as f:\n",
    "         print(key,file=f)\n",
    "         f.close()\n",
    "\n",
    "      \n",
    "   return val\n",
    "\n",
    "\n",
    "def removeCache():\n",
    "   import shutil\n",
    "   shutil.rmtree('save_data/'+cachefolder)\n",
    "\n",
    "import functools\n",
    "def cachefunc(_func=None,*,key='',add_params2key=True,disable=False):\n",
    "   \n",
    "   def wrapper2(func):\n",
    "      @functools.wraps(func)\n",
    "      def wrapper(*args, **kwargs):\n",
    "         \n",
    "         if(GlobalDisable ):\n",
    "            return func(*args, **kwargs)\n",
    "         else:\n",
    "            return get(str(*args)+str(**kwargs)+key,lambda:func(*args, **kwargs))    \n",
    "\n",
    "      return wrapper\n",
    "   if(_func is None):\n",
    "      return wrapper2\n",
    "   else:\n",
    "      return wrapper2(_func)\n",
    "\n",
    "\n",
    "@cachefunc\n",
    "def test(i):\n",
    "   print(i)\n",
    "   return i*i\n",
    "\n",
    "test(1)"
   ]
  },
  {
   "cell_type": "code",
   "execution_count": null,
   "id": "1bbf94aa-78ef-40a4-821d-f6dc02a59b3a",
   "metadata": {},
   "outputs": [],
   "source": [
    "pip install diskcache"
   ]
  },
  {
   "cell_type": "code",
   "execution_count": 1,
   "id": "7c6b557f-606a-4bed-b248-221c8d990da5",
   "metadata": {},
   "outputs": [
    {
     "name": "stdout",
     "output_type": "stream",
     "text": [
      "Creating the cache\n"
     ]
    }
   ],
   "source": [
    "from eval_seg.common import Cache\n",
    "\n",
    "\n",
    "@Cache.memoize()\n",
    "def test(i):\n",
    "   print(i)\n",
    "   return i*i\n",
    "\n",
    "@Cache.memoize()\n",
    "def test2(i):\n",
    "   print(i)\n",
    "   return i\n",
    "\n",
    "test.invalidate_cache()"
   ]
  },
  {
   "cell_type": "code",
   "execution_count": 11,
   "id": "c08299ce-3c28-4b04-82d9-a5bb5c1681cc",
   "metadata": {},
   "outputs": [
    {
     "data": {
      "text/plain": [
       "('__main__.test', array([0., 0., 0., ..., 0., 0., 0.]), None)"
      ]
     },
     "execution_count": 11,
     "metadata": {},
     "output_type": "execute_result"
    }
   ],
   "source": [
    "import numpy as np\n",
    "test.__cache_key__(np.zeros(10000000000))"
   ]
  },
  {
   "cell_type": "code",
   "execution_count": 4,
   "id": "24f17d9a-2459-431e-85b4-45e2500afc8f",
   "metadata": {},
   "outputs": [],
   "source": [
    "test.invalidate_cache()"
   ]
  },
  {
   "cell_type": "code",
   "execution_count": 13,
   "id": "6da296bc-7642-446b-896c-8c5cfa625e7d",
   "metadata": {},
   "outputs": [
    {
     "data": {
      "text/plain": [
       "-5680974078115548388"
      ]
     },
     "execution_count": 13,
     "metadata": {},
     "output_type": "execute_result"
    }
   ],
   "source": [
    "import hashlib\n",
    "hash('dddd')"
   ]
  },
  {
   "cell_type": "code",
   "execution_count": null,
   "id": "71ebb2f4-b465-4f74-ae8d-75f01893728a",
   "metadata": {},
   "outputs": [],
   "source": [
    "max_process=10\n",
    "items=range(11)\n",
    "\n",
    "import math\n",
    "per_chunk_size=len(items)/max_process\n",
    "chunks=[]\n",
    "e=0\n",
    "for i in range(max_process):\n",
    "    s,e=e,math.ceil(min(len(items),e+per_chunk_size))\n",
    "    if s>=e:\n",
    "        break\n",
    "    chunks.append(items[s:e]) \n",
    "chunks"
   ]
  },
  {
   "cell_type": "code",
   "execution_count": null,
   "id": "e9ce9be4-9583-4d99-bbc4-bfffd62169e8",
   "metadata": {},
   "outputs": [],
   "source": [
    "import numpy as np\n",
    "items=[[object()]*i for i in range(2)]\n",
    "np.array_split(range(len(items)),9)"
   ]
  },
  {
   "cell_type": "code",
   "execution_count": 15,
   "id": "fcddda63-5803-4e75-8e7f-80fb6272669a",
   "metadata": {},
   "outputs": [
    {
     "data": {
      "text/plain": [
       "(1, 2, 3)"
      ]
     },
     "execution_count": 15,
     "metadata": {},
     "output_type": "execute_result"
    }
   ],
   "source": [
    "a=(1,2)\n",
    "a+(3,)"
   ]
  }
 ],
 "metadata": {
  "kernelspec": {
   "display_name": "Python 3 (ipykernel)",
   "language": "python",
   "name": "python3"
  },
  "language_info": {
   "codemirror_mode": {
    "name": "ipython",
    "version": 3
   },
   "file_extension": ".py",
   "mimetype": "text/x-python",
   "name": "python",
   "nbconvert_exporter": "python",
   "pygments_lexer": "ipython3",
   "version": "3.8.13"
  }
 },
 "nbformat": 4,
 "nbformat_minor": 5
}
